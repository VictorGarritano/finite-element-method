{
 "cells": [
  {
   "cell_type": "code",
   "execution_count": 1,
   "metadata": {
    "collapsed": true
   },
   "outputs": [],
   "source": [
    "import numpy as np\n",
    "from k_local import build_local\n",
    "import itertools\n",
    "\n",
    "Q = np.array([\n",
    "        [2,1],\n",
    "        [1,2]\n",
    "    ])"
   ]
  },
  {
   "cell_type": "markdown",
   "metadata": {},
   "source": [
    "## Criação da discretização 2D, numeração dos nós e numeração dos elementos"
   ]
  },
  {
   "cell_type": "code",
   "execution_count": 2,
   "metadata": {
    "collapsed": true
   },
   "outputs": [],
   "source": [
    "verbose = False"
   ]
  },
  {
   "cell_type": "code",
   "execution_count": 3,
   "metadata": {
    "collapsed": true
   },
   "outputs": [],
   "source": [
    "nx = 40\n",
    "ny = 40\n",
    "X, Y = np.meshgrid(np.linspace(0,1,nx), np.linspace(0,1,ny))"
   ]
  },
  {
   "cell_type": "code",
   "execution_count": 4,
   "metadata": {},
   "outputs": [
    {
     "name": "stdout",
     "output_type": "stream",
     "text": [
      "(40, 40) (40, 40)\n"
     ]
    }
   ],
   "source": [
    "print(X.shape, Y.shape)"
   ]
  },
  {
   "cell_type": "code",
   "execution_count": 5,
   "metadata": {},
   "outputs": [
    {
     "name": "stdout",
     "output_type": "stream",
     "text": [
      "(1600, 2)\n"
     ]
    }
   ],
   "source": [
    "Z = np.array(list(zip(X.ravel(), Y.ravel())))\n",
    "print(Z.shape)"
   ]
  },
  {
   "cell_type": "code",
   "execution_count": 6,
   "metadata": {},
   "outputs": [
    {
     "name": "stdout",
     "output_type": "stream",
     "text": [
      "1600\n"
     ]
    }
   ],
   "source": [
    "nodes = list(enumerate(Z))\n",
    "nodes_n = nodes[-1][0] + 1\n",
    "print(nodes_n)"
   ]
  },
  {
   "cell_type": "code",
   "execution_count": 7,
   "metadata": {},
   "outputs": [
    {
     "name": "stdout",
     "output_type": "stream",
     "text": [
      "1521\n"
     ]
    }
   ],
   "source": [
    "elements_n = (nx-1)*(ny-1)\n",
    "print(elements_n)"
   ]
  },
  {
   "cell_type": "code",
   "execution_count": 8,
   "metadata": {
    "collapsed": true
   },
   "outputs": [],
   "source": [
    "G = np.zeros((4,elements_n), dtype=np.int64)"
   ]
  },
  {
   "cell_type": "code",
   "execution_count": 9,
   "metadata": {
    "collapsed": true
   },
   "outputs": [],
   "source": [
    "num = 0\n",
    "\n",
    "for d in range(ny-1):\n",
    "    for i in range((nx-1)):\n",
    "        G[:,num] = np.array([i+d*nx, i+1+d*nx, i+nx+1+d*nx, i+nx+d*nx])\n",
    "        num+=1\n",
    "\n",
    "if verbose:\n",
    "    for x in range(G.shape[1]):\n",
    "        print(G[:,x])"
   ]
  },
  {
   "cell_type": "markdown",
   "metadata": {},
   "source": [
    "## Montagem da matriz rigidez local, e posterior mapeamento para a matriz rigidez global"
   ]
  },
  {
   "cell_type": "code",
   "execution_count": 10,
   "metadata": {
    "collapsed": true
   },
   "outputs": [],
   "source": [
    "def map_nodes_to_physical(G, elem, verbose=False):\n",
    "    n_ = G[:,elem]\n",
    "    l = list()\n",
    "    \n",
    "    for idx in n_:\n",
    "        l.append(nodes[int(idx)][1])\n",
    "        if verbose:\n",
    "            print('global node {0} --> point {1} on R2'.format(idx, nodes[int(idx)][1]))\n",
    "        \n",
    "    M = np.array(l).T\n",
    "    return M"
   ]
  },
  {
   "cell_type": "code",
   "execution_count": 11,
   "metadata": {
    "collapsed": true
   },
   "outputs": [],
   "source": [
    "def l2g(EQ_vector, L2G_matrix, Q_ab, f, prescribed, verbose=False):\n",
    "    nodes_per_elem, elem_n = L2G_matrix.shape\n",
    "    \n",
    "    if verbose:\n",
    "        print(nodes_per_elem, elem_n)\n",
    "    \n",
    "    eq_n = int(np.max(EQ_vector) + 1)\n",
    "    \n",
    "    if verbose:\n",
    "        print(eq_n)\n",
    "    \n",
    "    K = np.zeros((eq_n, eq_n))\n",
    "    F = np.zeros((eq_n, ))\n",
    "    \n",
    "    for elem in range(elem_n):\n",
    "        global_nodes = L2G_matrix[:,elem]\n",
    "        f_on_nodes = f[global_nodes]\n",
    "        pres_on_nodes = prescribed[global_nodes]\n",
    "        \n",
    "        if verbose:\n",
    "            print('global nodes --> {0}'.format(global_nodes))\n",
    "            print('f on nodes --> {0}'.format(f_on_nodes))\n",
    "            print('prescribed on nodes --> {0}'.format(pres_on_nodes))\n",
    "            \n",
    "        c = itertools.product(range(nodes_per_elem),repeat=2)\n",
    "        M = map_nodes_to_physical(L2G_matrix, elem, verbose=verbose)\n",
    "        local_k, local_F = build_local(M, Q, Q_ab, f_on_nodes, pres_on_nodes)\n",
    "        \n",
    "        for x in c:\n",
    "            aux1 = L2G_matrix[x[0]][elem]\n",
    "            aux2 = L2G_matrix[x[1]][elem]    \n",
    "            i = EQ_vector[aux1]\n",
    "            j = EQ_vector[aux2]\n",
    "            \n",
    "            if verbose:\n",
    "                print('el_node {0} --> glob_node {1} --> eq_vec {2}'.format((x), (aux1, aux2), (i, j)))\n",
    "                \n",
    "            if i != -1 and j != -1:\n",
    "                K[i][j] += local_k[x[0]][x[1]]\n",
    "                \n",
    "                if verbose:\n",
    "                    print('\\t----> accumulating to global')\n",
    "        \n",
    "        for node in global_nodes:\n",
    "            i = EQ_vector[node]\n",
    "            \n",
    "            if verbose:\n",
    "                print('node {0} --> equation {1}'.format(node, i))\n",
    "                \n",
    "            if i != -1:\n",
    "                \n",
    "                if verbose:\n",
    "                    print('\\tnode {0} --> pos {1} on local_f'.format(node, np.where(global_nodes == node)[0]))\n",
    "                \n",
    "                F[i] += local_F[np.where(global_nodes == node)[0]]\n",
    "        \n",
    "        if verbose:\n",
    "            print('+'*60)\n",
    "\n",
    "    return K, F"
   ]
  },
  {
   "cell_type": "code",
   "execution_count": 12,
   "metadata": {
    "collapsed": true
   },
   "outputs": [],
   "source": [
    "phi_1 = lambda ksi, eta: 0.25*(1-ksi)*(1-eta)\n",
    "phi_2 = lambda ksi, eta: 0.25*(1+ksi)*(1-eta)\n",
    "phi_3 = lambda ksi, eta: 0.25*(1+ksi)*(1+eta)\n",
    "phi_4 = lambda ksi, eta: 0.25*(1-ksi)*(1+eta)\n",
    "\n",
    "gauss_points = [[-np.sqrt(3)/3,-np.sqrt(3)/3],\n",
    "                [np.sqrt(3)/3, -np.sqrt(3)/3],\n",
    "                [np.sqrt(3)/3, np.sqrt(3)/3],\n",
    "                [-np.sqrt(3)/3, np.sqrt(3)/3]]\n",
    "\n",
    "interp = np.array([phi_1, phi_2, phi_3, phi_4])\n",
    "\n",
    "Q_ab = np.zeros((4,4))\n",
    "\n",
    "verbose = False\n",
    "for i in range(4):\n",
    "    for j in range(4):\n",
    "        for pg in gauss_points:\n",
    "            Q_ab[i, j] += interp[i](pg[0], pg[1])*interp[j](pg[0], pg[1])\n",
    "            \n",
    "            if verbose:\n",
    "                print('({0}, {1}) --> pg = ({2}, {3})'.format(i, j, pg[0], pg[1]))\n",
    "        \n",
    "        if verbose:\n",
    "            print('+'*60)"
   ]
  },
  {
   "cell_type": "code",
   "execution_count": 13,
   "metadata": {
    "collapsed": true,
    "scrolled": true
   },
   "outputs": [],
   "source": [
    "f_ = lambda x: (2*np.pi**2)*(2*np.sin(np.pi*x[0])*np.cos(np.pi*x[1]) + np.cos(np.pi*x[0])*np.sin(np.pi*x[1]))\n",
    "f = np.zeros((nodes_n,))\n",
    "for pts in nodes:\n",
    "    f[pts[0]] = f_(pts[1])"
   ]
  },
  {
   "cell_type": "code",
   "execution_count": 14,
   "metadata": {
    "collapsed": true,
    "scrolled": true
   },
   "outputs": [],
   "source": [
    "# print(f)"
   ]
  },
  {
   "cell_type": "code",
   "execution_count": 15,
   "metadata": {
    "collapsed": true
   },
   "outputs": [],
   "source": [
    "prescribed = np.zeros((nodes_n, ))\n",
    "\n",
    "gamma_1 = np.where(Z[:,1] == 0)[0]\n",
    "# print('gamma_1 {0}'.format(gamma_1))\n",
    "prescribed[gamma_1] = np.sin(np.pi*Z[gamma_1,0])\n",
    "\n",
    "gamma_2 = np.where(Z[:,0] == 1)[0]\n",
    "# print('gamma_2 {0}'.format(gamma_2))\n",
    "\n",
    "gamma_3 = np.where(Z[:,1] == 1)[0]\n",
    "# print('gamma_3 {0}'.format(gamma_3))\n",
    "prescribed[gamma_3] = -np.sin(np.pi*Z[gamma_3,0])\n",
    "gamma_4 = np.where(Z[:,0] == 0)[0]\n",
    "# print('gamma_4 {0}'.format(gamma_4))\n",
    "\n",
    "# print('prescribed {0}'.format(prescribed))"
   ]
  },
  {
   "cell_type": "code",
   "execution_count": 16,
   "metadata": {
    "collapsed": true
   },
   "outputs": [],
   "source": [
    "known_sols = np.concatenate((gamma_1, gamma_2, gamma_3, gamma_4),axis=0)\n",
    "\n",
    "d_sols = np.setdiff1d(np.arange(nodes_n), known_sols)"
   ]
  },
  {
   "cell_type": "code",
   "execution_count": 17,
   "metadata": {
    "collapsed": true
   },
   "outputs": [],
   "source": [
    "EQ_vector = np.zeros((nodes_n,), dtype=np.int64) - 1\n",
    "count = 0\n",
    "\n",
    "for idx in range(EQ_vector.shape[0]):\n",
    "    if idx in d_sols:\n",
    "        EQ_vector[idx] = count\n",
    "        count += 1"
   ]
  },
  {
   "cell_type": "code",
   "execution_count": 18,
   "metadata": {
    "collapsed": true,
    "scrolled": false
   },
   "outputs": [],
   "source": [
    "K, F = l2g(EQ_vector, G, Q_ab, f, prescribed, verbose=False)"
   ]
  },
  {
   "cell_type": "code",
   "execution_count": 19,
   "metadata": {
    "collapsed": true
   },
   "outputs": [],
   "source": [
    "d = np.linalg.solve(K, F)"
   ]
  },
  {
   "cell_type": "code",
   "execution_count": 20,
   "metadata": {
    "collapsed": true
   },
   "outputs": [],
   "source": [
    "sols = prescribed\n",
    "sols[d_sols] = d"
   ]
  },
  {
   "cell_type": "code",
   "execution_count": 21,
   "metadata": {},
   "outputs": [],
   "source": [
    "# import matplotlib.pyplot as plt\n",
    "# from mpl_toolkits.mplot3d import Axes3D\n",
    "# fig = plt.figure(figsize=(14, 14))\n",
    "# ax = fig.add_subplot(111, projection='3d')\n",
    "\n",
    "# X, Y = Z[:,0], Z[:,1]\n",
    "\n",
    "# ax.plot_trisurf(X, Y, sols)\n",
    "# ax.view_init(20,35)\n",
    "# plt.show()"
   ]
  },
  {
   "cell_type": "code",
   "execution_count": null,
   "metadata": {
    "collapsed": true
   },
   "outputs": [],
   "source": []
  }
 ],
 "metadata": {
  "kernelspec": {
   "display_name": "Python 3",
   "language": "python",
   "name": "python3"
  },
  "language_info": {
   "codemirror_mode": {
    "name": "ipython",
    "version": 3
   },
   "file_extension": ".py",
   "mimetype": "text/x-python",
   "name": "python",
   "nbconvert_exporter": "python",
   "pygments_lexer": "ipython3",
   "version": "3.6.2"
  }
 },
 "nbformat": 4,
 "nbformat_minor": 2
}
