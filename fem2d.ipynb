{
 "cells": [
  {
   "cell_type": "code",
   "execution_count": 1,
   "metadata": {
    "collapsed": true
   },
   "outputs": [],
   "source": [
    "import numpy as np\n",
    "from k_local import build_local\n",
    "import itertools\n",
    "\n",
    "Q = np.array([\n",
    "        [2,1],\n",
    "        [1,2]\n",
    "    ])"
   ]
  },
  {
   "cell_type": "markdown",
   "metadata": {},
   "source": [
    "## Criação da discretização 2D, numeração dos nós e numeração dos elementos"
   ]
  },
  {
   "cell_type": "code",
   "execution_count": 2,
   "metadata": {
    "collapsed": true
   },
   "outputs": [],
   "source": [
    "nx = 5\n",
    "ny = 5\n",
    "X, Y = np.meshgrid(np.linspace(0,1,nx), np.linspace(0,1,ny))"
   ]
  },
  {
   "cell_type": "code",
   "execution_count": 3,
   "metadata": {},
   "outputs": [
    {
     "name": "stdout",
     "output_type": "stream",
     "text": [
      "(5, 5) (5, 5)\n"
     ]
    }
   ],
   "source": [
    "print(X.shape, Y.shape)"
   ]
  },
  {
   "cell_type": "code",
   "execution_count": 4,
   "metadata": {},
   "outputs": [
    {
     "name": "stdout",
     "output_type": "stream",
     "text": [
      "(25, 2)\n"
     ]
    }
   ],
   "source": [
    "Z = np.array(list(zip(X.ravel(), Y.ravel())))\n",
    "print(Z.shape)"
   ]
  },
  {
   "cell_type": "code",
   "execution_count": 5,
   "metadata": {},
   "outputs": [
    {
     "name": "stdout",
     "output_type": "stream",
     "text": [
      "25\n"
     ]
    }
   ],
   "source": [
    "nodes = list(enumerate(Z))\n",
    "nodes_n = nodes[-1][0] + 1\n",
    "print(nodes_n)"
   ]
  },
  {
   "cell_type": "code",
   "execution_count": 6,
   "metadata": {},
   "outputs": [
    {
     "name": "stdout",
     "output_type": "stream",
     "text": [
      "16\n"
     ]
    }
   ],
   "source": [
    "elements_n = (nx-1)*(ny-1)\n",
    "print(elements_n)"
   ]
  },
  {
   "cell_type": "code",
   "execution_count": 7,
   "metadata": {
    "collapsed": true
   },
   "outputs": [],
   "source": [
    "G = np.zeros((4,elements_n), dtype=np.int64)"
   ]
  },
  {
   "cell_type": "code",
   "execution_count": 8,
   "metadata": {},
   "outputs": [
    {
     "name": "stdout",
     "output_type": "stream",
     "text": [
      "[0 1 6 5]\n",
      "[1 2 7 6]\n",
      "[2 3 8 7]\n",
      "[3 4 9 8]\n",
      "[ 5  6 11 10]\n",
      "[ 6  7 12 11]\n",
      "[ 7  8 13 12]\n",
      "[ 8  9 14 13]\n",
      "[10 11 16 15]\n",
      "[11 12 17 16]\n",
      "[12 13 18 17]\n",
      "[13 14 19 18]\n",
      "[15 16 21 20]\n",
      "[16 17 22 21]\n",
      "[17 18 23 22]\n",
      "[18 19 24 23]\n"
     ]
    }
   ],
   "source": [
    "num = 0\n",
    "\n",
    "for d in range(ny-1):\n",
    "    for i in range((nx-1)):\n",
    "        G[:,num] = np.array([i+d*nx, i+1+d*nx, i+nx+1+d*nx, i+nx+d*nx])\n",
    "        num+=1\n",
    "        \n",
    "for x in range(G.shape[1]):\n",
    "    print(G[:,x])"
   ]
  },
  {
   "cell_type": "markdown",
   "metadata": {},
   "source": [
    "## Montagem da matriz rigidez local, e posterior mapeamento para a matriz rigidez global"
   ]
  },
  {
   "cell_type": "code",
   "execution_count": 9,
   "metadata": {
    "collapsed": true
   },
   "outputs": [],
   "source": [
    "def map_nodes_to_physical(G, elem, verbose=False):\n",
    "    n_ = G[:,elem]\n",
    "    l = list()\n",
    "    \n",
    "    for idx in n_:\n",
    "        l.append(nodes[int(idx)][1])\n",
    "        if verbose:\n",
    "            print('global node {0} --> point {1} on R2'.format(idx, nodes[int(idx)][1]))\n",
    "        \n",
    "    M = np.array(l).T\n",
    "    return M"
   ]
  },
  {
   "cell_type": "code",
   "execution_count": 10,
   "metadata": {
    "collapsed": true
   },
   "outputs": [],
   "source": [
    "def l2g(EQ_vector, L2G_matrix, Q_ab, f, prescribed, verbose=False):\n",
    "    #L2G_matrix sera o n_\n",
    "    nodes_per_elem, elem_n = L2G_matrix.shape\n",
    "    \n",
    "    if verbose:\n",
    "        print(nodes_per_elem, elem_n)\n",
    "    \n",
    "    eq_n = int(np.max(EQ_vector) + 1)\n",
    "    \n",
    "    if verbose:\n",
    "        print(eq_n)\n",
    "    \n",
    "    K = np.zeros((eq_n, eq_n))\n",
    "    F = np.zeros((eq_n, ))\n",
    "    \n",
    "    for elem in range(elem_n):\n",
    "        global_nodes = L2G_matrix[:,elem]\n",
    "        f_on_nodes = f[global_nodes]\n",
    "        pres_on_nodes = prescribed[global_nodes]\n",
    "        \n",
    "        if verbose:\n",
    "            print('global nodes --> {0}'.format(global_nodes))\n",
    "            print('f on nodes --> {0}'.format(f_on_nodes))\n",
    "            print('prescribed on nodes --> {0}'.format(pres_on_nodes))\n",
    "            \n",
    "        c = itertools.product(range(nodes_per_elem),repeat=2)\n",
    "        M = map_nodes_to_physical(L2G_matrix, elem, verbose=verbose)\n",
    "        local_k, local_F = build_local(M, Q, Q_ab, f_on_nodes, pres_on_nodes)\n",
    "        \n",
    "        for x in c:\n",
    "            aux1 = L2G_matrix[x[0]][elem]\n",
    "            aux2 = L2G_matrix[x[1]][elem]    \n",
    "            i = EQ_vector[aux1]\n",
    "            j = EQ_vector[aux2]\n",
    "            \n",
    "            if verbose:\n",
    "                print('el_node {0} --> glob_node {1} --> eq_vec {2}'.format((x), (aux1, aux2), (i, j)))\n",
    "                \n",
    "            if i != -1 and j != -1:\n",
    "                K[i][j] += local_k[x[0]][x[1]]\n",
    "                \n",
    "                if verbose:\n",
    "                    print('\\t----> accumulating to global')\n",
    "        \n",
    "        for node in global_nodes:\n",
    "            i = EQ_vector[node]\n",
    "            print('node {0} --> equation {1}'.format(node, i))\n",
    "            if i != -1:\n",
    "                print('\\tnode {0} --> pos {1} on local_f'.format(node, np.where(global_nodes == node)[0]))\n",
    "                F[i] += local_F[np.where(global_nodes == node)[0]]\n",
    "        \n",
    "        if verbose:\n",
    "            print('+'*60)\n",
    "\n",
    "    return K, F"
   ]
  },
  {
   "cell_type": "code",
   "execution_count": 11,
   "metadata": {},
   "outputs": [],
   "source": [
    "EQ_vector = np.zeros((nodes_n,), dtype=np.int64) - 1\n",
    "count = 0\n",
    "\n",
    "for idx in range(EQ_vector.shape[0]):\n",
    "    if idx in [6,7,8,11,12,13,16,17,18]:\n",
    "        EQ_vector[idx] = count\n",
    "        count += 1"
   ]
  },
  {
   "cell_type": "code",
   "execution_count": 12,
   "metadata": {},
   "outputs": [
    {
     "name": "stdout",
     "output_type": "stream",
     "text": [
      "[-1 -1 -1 -1 -1 -1  0  1  2 -1 -1  3  4  5 -1 -1  6  7  8 -1 -1 -1 -1 -1 -1]\n"
     ]
    }
   ],
   "source": [
    "print(EQ_vector)"
   ]
  },
  {
   "cell_type": "code",
   "execution_count": 13,
   "metadata": {},
   "outputs": [
    {
     "name": "stdout",
     "output_type": "stream",
     "text": [
      "(0, 0) --> pg = (-0.5773502691896257, -0.5773502691896257)\n",
      "(0, 0) --> pg = (0.5773502691896257, -0.5773502691896257)\n",
      "(0, 0) --> pg = (0.5773502691896257, 0.5773502691896257)\n",
      "(0, 0) --> pg = (-0.5773502691896257, 0.5773502691896257)\n",
      "++++++++++++++++++++++++++++++++++++++++++++++++++++++++++++\n",
      "(0, 1) --> pg = (-0.5773502691896257, -0.5773502691896257)\n",
      "(0, 1) --> pg = (0.5773502691896257, -0.5773502691896257)\n",
      "(0, 1) --> pg = (0.5773502691896257, 0.5773502691896257)\n",
      "(0, 1) --> pg = (-0.5773502691896257, 0.5773502691896257)\n",
      "++++++++++++++++++++++++++++++++++++++++++++++++++++++++++++\n",
      "(0, 2) --> pg = (-0.5773502691896257, -0.5773502691896257)\n",
      "(0, 2) --> pg = (0.5773502691896257, -0.5773502691896257)\n",
      "(0, 2) --> pg = (0.5773502691896257, 0.5773502691896257)\n",
      "(0, 2) --> pg = (-0.5773502691896257, 0.5773502691896257)\n",
      "++++++++++++++++++++++++++++++++++++++++++++++++++++++++++++\n",
      "(0, 3) --> pg = (-0.5773502691896257, -0.5773502691896257)\n",
      "(0, 3) --> pg = (0.5773502691896257, -0.5773502691896257)\n",
      "(0, 3) --> pg = (0.5773502691896257, 0.5773502691896257)\n",
      "(0, 3) --> pg = (-0.5773502691896257, 0.5773502691896257)\n",
      "++++++++++++++++++++++++++++++++++++++++++++++++++++++++++++\n",
      "(1, 0) --> pg = (-0.5773502691896257, -0.5773502691896257)\n",
      "(1, 0) --> pg = (0.5773502691896257, -0.5773502691896257)\n",
      "(1, 0) --> pg = (0.5773502691896257, 0.5773502691896257)\n",
      "(1, 0) --> pg = (-0.5773502691896257, 0.5773502691896257)\n",
      "++++++++++++++++++++++++++++++++++++++++++++++++++++++++++++\n",
      "(1, 1) --> pg = (-0.5773502691896257, -0.5773502691896257)\n",
      "(1, 1) --> pg = (0.5773502691896257, -0.5773502691896257)\n",
      "(1, 1) --> pg = (0.5773502691896257, 0.5773502691896257)\n",
      "(1, 1) --> pg = (-0.5773502691896257, 0.5773502691896257)\n",
      "++++++++++++++++++++++++++++++++++++++++++++++++++++++++++++\n",
      "(1, 2) --> pg = (-0.5773502691896257, -0.5773502691896257)\n",
      "(1, 2) --> pg = (0.5773502691896257, -0.5773502691896257)\n",
      "(1, 2) --> pg = (0.5773502691896257, 0.5773502691896257)\n",
      "(1, 2) --> pg = (-0.5773502691896257, 0.5773502691896257)\n",
      "++++++++++++++++++++++++++++++++++++++++++++++++++++++++++++\n",
      "(1, 3) --> pg = (-0.5773502691896257, -0.5773502691896257)\n",
      "(1, 3) --> pg = (0.5773502691896257, -0.5773502691896257)\n",
      "(1, 3) --> pg = (0.5773502691896257, 0.5773502691896257)\n",
      "(1, 3) --> pg = (-0.5773502691896257, 0.5773502691896257)\n",
      "++++++++++++++++++++++++++++++++++++++++++++++++++++++++++++\n",
      "(2, 0) --> pg = (-0.5773502691896257, -0.5773502691896257)\n",
      "(2, 0) --> pg = (0.5773502691896257, -0.5773502691896257)\n",
      "(2, 0) --> pg = (0.5773502691896257, 0.5773502691896257)\n",
      "(2, 0) --> pg = (-0.5773502691896257, 0.5773502691896257)\n",
      "++++++++++++++++++++++++++++++++++++++++++++++++++++++++++++\n",
      "(2, 1) --> pg = (-0.5773502691896257, -0.5773502691896257)\n",
      "(2, 1) --> pg = (0.5773502691896257, -0.5773502691896257)\n",
      "(2, 1) --> pg = (0.5773502691896257, 0.5773502691896257)\n",
      "(2, 1) --> pg = (-0.5773502691896257, 0.5773502691896257)\n",
      "++++++++++++++++++++++++++++++++++++++++++++++++++++++++++++\n",
      "(2, 2) --> pg = (-0.5773502691896257, -0.5773502691896257)\n",
      "(2, 2) --> pg = (0.5773502691896257, -0.5773502691896257)\n",
      "(2, 2) --> pg = (0.5773502691896257, 0.5773502691896257)\n",
      "(2, 2) --> pg = (-0.5773502691896257, 0.5773502691896257)\n",
      "++++++++++++++++++++++++++++++++++++++++++++++++++++++++++++\n",
      "(2, 3) --> pg = (-0.5773502691896257, -0.5773502691896257)\n",
      "(2, 3) --> pg = (0.5773502691896257, -0.5773502691896257)\n",
      "(2, 3) --> pg = (0.5773502691896257, 0.5773502691896257)\n",
      "(2, 3) --> pg = (-0.5773502691896257, 0.5773502691896257)\n",
      "++++++++++++++++++++++++++++++++++++++++++++++++++++++++++++\n",
      "(3, 0) --> pg = (-0.5773502691896257, -0.5773502691896257)\n",
      "(3, 0) --> pg = (0.5773502691896257, -0.5773502691896257)\n",
      "(3, 0) --> pg = (0.5773502691896257, 0.5773502691896257)\n",
      "(3, 0) --> pg = (-0.5773502691896257, 0.5773502691896257)\n",
      "++++++++++++++++++++++++++++++++++++++++++++++++++++++++++++\n",
      "(3, 1) --> pg = (-0.5773502691896257, -0.5773502691896257)\n",
      "(3, 1) --> pg = (0.5773502691896257, -0.5773502691896257)\n",
      "(3, 1) --> pg = (0.5773502691896257, 0.5773502691896257)\n",
      "(3, 1) --> pg = (-0.5773502691896257, 0.5773502691896257)\n",
      "++++++++++++++++++++++++++++++++++++++++++++++++++++++++++++\n",
      "(3, 2) --> pg = (-0.5773502691896257, -0.5773502691896257)\n",
      "(3, 2) --> pg = (0.5773502691896257, -0.5773502691896257)\n",
      "(3, 2) --> pg = (0.5773502691896257, 0.5773502691896257)\n",
      "(3, 2) --> pg = (-0.5773502691896257, 0.5773502691896257)\n",
      "++++++++++++++++++++++++++++++++++++++++++++++++++++++++++++\n",
      "(3, 3) --> pg = (-0.5773502691896257, -0.5773502691896257)\n",
      "(3, 3) --> pg = (0.5773502691896257, -0.5773502691896257)\n",
      "(3, 3) --> pg = (0.5773502691896257, 0.5773502691896257)\n",
      "(3, 3) --> pg = (-0.5773502691896257, 0.5773502691896257)\n",
      "++++++++++++++++++++++++++++++++++++++++++++++++++++++++++++\n"
     ]
    }
   ],
   "source": [
    "phi_1 = lambda ksi, eta: 0.25*(1-ksi)*(1-eta)\n",
    "phi_2 = lambda ksi, eta: 0.25*(1+ksi)*(1-eta)\n",
    "phi_3 = lambda ksi, eta: 0.25*(1+ksi)*(1+eta)\n",
    "phi_4 = lambda ksi, eta: 0.25*(1-ksi)*(1+eta)\n",
    "\n",
    "gauss_points = [[-np.sqrt(3)/3,-np.sqrt(3)/3],\n",
    "                [np.sqrt(3)/3, -np.sqrt(3)/3],\n",
    "                [np.sqrt(3)/3, np.sqrt(3)/3],\n",
    "                [-np.sqrt(3)/3, np.sqrt(3)/3]]\n",
    "\n",
    "interp = np.array([phi_1, phi_2, phi_3, phi_4])\n",
    "\n",
    "Q_ab = np.zeros((4,4))\n",
    "\n",
    "verbose = True\n",
    "for i in range(4):\n",
    "    for j in range(4):\n",
    "        for pg in gauss_points:\n",
    "            Q_ab[i, j] += interp[i](pg[0], pg[1])*interp[j](pg[0], pg[1])\n",
    "            \n",
    "            if verbose:\n",
    "                print('({0}, {1}) --> pg = ({2}, {3})'.format(i, j, pg[0], pg[1]))\n",
    "        \n",
    "        if verbose:\n",
    "            print('+'*60)"
   ]
  },
  {
   "cell_type": "code",
   "execution_count": 14,
   "metadata": {
    "collapsed": true,
    "scrolled": true
   },
   "outputs": [],
   "source": [
    "f_ = lambda x: (2*np.pi**2)*(2*np.sin(np.pi*x[0])*np.cos(np.pi*x[1]) + np.cos(np.pi*x[0])*np.sin(np.pi*x[1]))\n",
    "f = np.zeros((nodes_n,))\n",
    "for pts in nodes:\n",
    "    f[pts[0]] = f_(pts[1])"
   ]
  },
  {
   "cell_type": "code",
   "execution_count": 15,
   "metadata": {
    "scrolled": true
   },
   "outputs": [
    {
     "name": "stdout",
     "output_type": "stream",
     "text": [
      "[  0.00000000e+00   2.79154568e+01   3.94784176e+01   2.79154568e+01\n",
      "   4.83471178e-15   1.39577284e+01   2.96088132e+01   2.79154568e+01\n",
      "   9.86960440e+00  -1.39577284e+01   1.97392088e+01   1.39577284e+01\n",
      "   3.62603383e-15  -1.39577284e+01  -1.97392088e+01   1.39577284e+01\n",
      "  -9.86960440e+00  -2.79154568e+01  -2.96088132e+01  -1.39577284e+01\n",
      "   2.41735589e-15  -2.79154568e+01  -3.94784176e+01  -2.79154568e+01\n",
      "  -7.25206766e-15]\n"
     ]
    }
   ],
   "source": [
    "print(f)"
   ]
  },
  {
   "cell_type": "code",
   "execution_count": 16,
   "metadata": {},
   "outputs": [
    {
     "name": "stdout",
     "output_type": "stream",
     "text": [
      "gamma_1 [0 1 2 3 4]\n",
      "gamma_2 [ 4  9 14 19 24]\n",
      "gamma_3 [20 21 22 23 24]\n",
      "gamma_4 [ 0  5 10 15 20]\n",
      "prescribed [  0.00000000e+00   7.07106781e-01   1.00000000e+00   7.07106781e-01\n",
      "   1.22464680e-16   0.00000000e+00   0.00000000e+00   0.00000000e+00\n",
      "   0.00000000e+00   0.00000000e+00   0.00000000e+00   0.00000000e+00\n",
      "   0.00000000e+00   0.00000000e+00   0.00000000e+00   0.00000000e+00\n",
      "   0.00000000e+00   0.00000000e+00   0.00000000e+00   0.00000000e+00\n",
      "  -0.00000000e+00  -7.07106781e-01  -1.00000000e+00  -7.07106781e-01\n",
      "  -1.22464680e-16]\n"
     ]
    }
   ],
   "source": [
    "prescribed = np.zeros((nodes_n, ))\n",
    "\n",
    "gamma_1 = np.where(Z[:,1] == 0)[0]\n",
    "print('gamma_1 {0}'.format(gamma_1))\n",
    "prescribed[gamma_1] = np.sin(np.pi*Z[gamma_1,0])\n",
    "\n",
    "gamma_2 = np.where(Z[:,0] == 1)[0]\n",
    "print('gamma_2 {0}'.format(gamma_2))\n",
    "\n",
    "gamma_3 = np.where(Z[:,1] == 1)[0]\n",
    "print('gamma_3 {0}'.format(gamma_3))\n",
    "prescribed[gamma_3] = -np.sin(np.pi*Z[gamma_3,0])\n",
    "gamma_4 = np.where(Z[:,0] == 0)[0]\n",
    "print('gamma_4 {0}'.format(gamma_4))\n",
    "\n",
    "print('prescribed {0}'.format(prescribed))"
   ]
  },
  {
   "cell_type": "code",
   "execution_count": 17,
   "metadata": {
    "scrolled": false
   },
   "outputs": [
    {
     "name": "stdout",
     "output_type": "stream",
     "text": [
      "4 16\n",
      "9\n",
      "global nodes --> [0 1 6 5]\n",
      "f on nodes --> [  0.         27.9154568  29.6088132  13.9577284]\n",
      "prescribed on nodes --> [ 0.          0.70710678  0.          0.        ]\n",
      "global node 0 --> point [ 0.  0.] on R2\n",
      "global node 1 --> point [ 0.25  0.  ] on R2\n",
      "global node 6 --> point [ 0.25  0.25] on R2\n",
      "global node 5 --> point [ 0.    0.25] on R2\n",
      "el_node (0, 0) --> glob_node (0, 0) --> eq_vec (-1, -1)\n",
      "el_node (0, 1) --> glob_node (0, 1) --> eq_vec (-1, -1)\n",
      "el_node (0, 2) --> glob_node (0, 6) --> eq_vec (-1, 0)\n",
      "el_node (0, 3) --> glob_node (0, 5) --> eq_vec (-1, -1)\n",
      "el_node (1, 0) --> glob_node (1, 0) --> eq_vec (-1, -1)\n",
      "el_node (1, 1) --> glob_node (1, 1) --> eq_vec (-1, -1)\n",
      "el_node (1, 2) --> glob_node (1, 6) --> eq_vec (-1, 0)\n",
      "el_node (1, 3) --> glob_node (1, 5) --> eq_vec (-1, -1)\n",
      "el_node (2, 0) --> glob_node (6, 0) --> eq_vec (0, -1)\n",
      "el_node (2, 1) --> glob_node (6, 1) --> eq_vec (0, -1)\n",
      "el_node (2, 2) --> glob_node (6, 6) --> eq_vec (0, 0)\n",
      "\t----> accumulating to global\n",
      "el_node (2, 3) --> glob_node (6, 5) --> eq_vec (0, -1)\n",
      "el_node (3, 0) --> glob_node (5, 0) --> eq_vec (-1, -1)\n",
      "el_node (3, 1) --> glob_node (5, 1) --> eq_vec (-1, -1)\n",
      "el_node (3, 2) --> glob_node (5, 6) --> eq_vec (-1, 0)\n",
      "el_node (3, 3) --> glob_node (5, 5) --> eq_vec (-1, -1)\n",
      "node 0 --> equation -1\n",
      "node 1 --> equation -1\n",
      "node 6 --> equation 0\n",
      "\tnode 6 --> pos [2] on local_f\n",
      "node 5 --> equation -1\n",
      "++++++++++++++++++++++++++++++++++++++++++++++++++++++++++++\n",
      "global nodes --> [1 2 7 6]\n",
      "f on nodes --> [ 27.9154568  39.4784176  27.9154568  29.6088132]\n",
      "prescribed on nodes --> [ 0.70710678  1.          0.          0.        ]\n",
      "global node 1 --> point [ 0.25  0.  ] on R2\n",
      "global node 2 --> point [ 0.5  0. ] on R2\n",
      "global node 7 --> point [ 0.5   0.25] on R2\n",
      "global node 6 --> point [ 0.25  0.25] on R2\n",
      "el_node (0, 0) --> glob_node (1, 1) --> eq_vec (-1, -1)\n",
      "el_node (0, 1) --> glob_node (1, 2) --> eq_vec (-1, -1)\n",
      "el_node (0, 2) --> glob_node (1, 7) --> eq_vec (-1, 1)\n",
      "el_node (0, 3) --> glob_node (1, 6) --> eq_vec (-1, 0)\n",
      "el_node (1, 0) --> glob_node (2, 1) --> eq_vec (-1, -1)\n",
      "el_node (1, 1) --> glob_node (2, 2) --> eq_vec (-1, -1)\n",
      "el_node (1, 2) --> glob_node (2, 7) --> eq_vec (-1, 1)\n",
      "el_node (1, 3) --> glob_node (2, 6) --> eq_vec (-1, 0)\n",
      "el_node (2, 0) --> glob_node (7, 1) --> eq_vec (1, -1)\n",
      "el_node (2, 1) --> glob_node (7, 2) --> eq_vec (1, -1)\n",
      "el_node (2, 2) --> glob_node (7, 7) --> eq_vec (1, 1)\n",
      "\t----> accumulating to global\n",
      "el_node (2, 3) --> glob_node (7, 6) --> eq_vec (1, 0)\n",
      "\t----> accumulating to global\n",
      "el_node (3, 0) --> glob_node (6, 1) --> eq_vec (0, -1)\n",
      "el_node (3, 1) --> glob_node (6, 2) --> eq_vec (0, -1)\n",
      "el_node (3, 2) --> glob_node (6, 7) --> eq_vec (0, 1)\n",
      "\t----> accumulating to global\n",
      "el_node (3, 3) --> glob_node (6, 6) --> eq_vec (0, 0)\n",
      "\t----> accumulating to global\n",
      "node 1 --> equation -1\n",
      "node 2 --> equation -1\n",
      "node 7 --> equation 1\n",
      "\tnode 7 --> pos [2] on local_f\n",
      "node 6 --> equation 0\n",
      "\tnode 6 --> pos [3] on local_f\n",
      "++++++++++++++++++++++++++++++++++++++++++++++++++++++++++++\n",
      "global nodes --> [2 3 8 7]\n",
      "f on nodes --> [ 39.4784176  27.9154568   9.8696044  27.9154568]\n",
      "prescribed on nodes --> [ 1.          0.70710678  0.          0.        ]\n",
      "global node 2 --> point [ 0.5  0. ] on R2\n",
      "global node 3 --> point [ 0.75  0.  ] on R2\n",
      "global node 8 --> point [ 0.75  0.25] on R2\n",
      "global node 7 --> point [ 0.5   0.25] on R2\n",
      "el_node (0, 0) --> glob_node (2, 2) --> eq_vec (-1, -1)\n",
      "el_node (0, 1) --> glob_node (2, 3) --> eq_vec (-1, -1)\n",
      "el_node (0, 2) --> glob_node (2, 8) --> eq_vec (-1, 2)\n",
      "el_node (0, 3) --> glob_node (2, 7) --> eq_vec (-1, 1)\n",
      "el_node (1, 0) --> glob_node (3, 2) --> eq_vec (-1, -1)\n",
      "el_node (1, 1) --> glob_node (3, 3) --> eq_vec (-1, -1)\n",
      "el_node (1, 2) --> glob_node (3, 8) --> eq_vec (-1, 2)\n",
      "el_node (1, 3) --> glob_node (3, 7) --> eq_vec (-1, 1)\n",
      "el_node (2, 0) --> glob_node (8, 2) --> eq_vec (2, -1)\n",
      "el_node (2, 1) --> glob_node (8, 3) --> eq_vec (2, -1)\n",
      "el_node (2, 2) --> glob_node (8, 8) --> eq_vec (2, 2)\n",
      "\t----> accumulating to global\n",
      "el_node (2, 3) --> glob_node (8, 7) --> eq_vec (2, 1)\n",
      "\t----> accumulating to global\n",
      "el_node (3, 0) --> glob_node (7, 2) --> eq_vec (1, -1)\n",
      "el_node (3, 1) --> glob_node (7, 3) --> eq_vec (1, -1)\n",
      "el_node (3, 2) --> glob_node (7, 8) --> eq_vec (1, 2)\n",
      "\t----> accumulating to global\n",
      "el_node (3, 3) --> glob_node (7, 7) --> eq_vec (1, 1)\n",
      "\t----> accumulating to global\n",
      "node 2 --> equation -1\n",
      "node 3 --> equation -1\n",
      "node 8 --> equation 2\n",
      "\tnode 8 --> pos [2] on local_f\n",
      "node 7 --> equation 1\n",
      "\tnode 7 --> pos [3] on local_f\n",
      "++++++++++++++++++++++++++++++++++++++++++++++++++++++++++++\n",
      "global nodes --> [3 4 9 8]\n",
      "f on nodes --> [  2.79154568e+01   4.83471178e-15  -1.39577284e+01   9.86960440e+00]\n",
      "prescribed on nodes --> [  7.07106781e-01   1.22464680e-16   0.00000000e+00   0.00000000e+00]\n",
      "global node 3 --> point [ 0.75  0.  ] on R2\n",
      "global node 4 --> point [ 1.  0.] on R2\n",
      "global node 9 --> point [ 1.    0.25] on R2\n",
      "global node 8 --> point [ 0.75  0.25] on R2\n",
      "el_node (0, 0) --> glob_node (3, 3) --> eq_vec (-1, -1)\n",
      "el_node (0, 1) --> glob_node (3, 4) --> eq_vec (-1, -1)\n",
      "el_node (0, 2) --> glob_node (3, 9) --> eq_vec (-1, -1)\n",
      "el_node (0, 3) --> glob_node (3, 8) --> eq_vec (-1, 2)\n",
      "el_node (1, 0) --> glob_node (4, 3) --> eq_vec (-1, -1)\n",
      "el_node (1, 1) --> glob_node (4, 4) --> eq_vec (-1, -1)\n",
      "el_node (1, 2) --> glob_node (4, 9) --> eq_vec (-1, -1)\n",
      "el_node (1, 3) --> glob_node (4, 8) --> eq_vec (-1, 2)\n",
      "el_node (2, 0) --> glob_node (9, 3) --> eq_vec (-1, -1)\n",
      "el_node (2, 1) --> glob_node (9, 4) --> eq_vec (-1, -1)\n",
      "el_node (2, 2) --> glob_node (9, 9) --> eq_vec (-1, -1)\n",
      "el_node (2, 3) --> glob_node (9, 8) --> eq_vec (-1, 2)\n",
      "el_node (3, 0) --> glob_node (8, 3) --> eq_vec (2, -1)\n",
      "el_node (3, 1) --> glob_node (8, 4) --> eq_vec (2, -1)\n",
      "el_node (3, 2) --> glob_node (8, 9) --> eq_vec (2, -1)\n",
      "el_node (3, 3) --> glob_node (8, 8) --> eq_vec (2, 2)\n",
      "\t----> accumulating to global\n",
      "node 3 --> equation -1\n",
      "node 4 --> equation -1\n",
      "node 9 --> equation -1\n",
      "node 8 --> equation 2\n",
      "\tnode 8 --> pos [3] on local_f\n",
      "++++++++++++++++++++++++++++++++++++++++++++++++++++++++++++\n",
      "global nodes --> [ 5  6 11 10]\n",
      "f on nodes --> [ 13.9577284  29.6088132  13.9577284  19.7392088]\n",
      "prescribed on nodes --> [ 0.  0.  0.  0.]\n",
      "global node 5 --> point [ 0.    0.25] on R2\n",
      "global node 6 --> point [ 0.25  0.25] on R2\n",
      "global node 11 --> point [ 0.25  0.5 ] on R2\n",
      "global node 10 --> point [ 0.   0.5] on R2\n",
      "el_node (0, 0) --> glob_node (5, 5) --> eq_vec (-1, -1)\n",
      "el_node (0, 1) --> glob_node (5, 6) --> eq_vec (-1, 0)\n",
      "el_node (0, 2) --> glob_node (5, 11) --> eq_vec (-1, 3)\n",
      "el_node (0, 3) --> glob_node (5, 10) --> eq_vec (-1, -1)\n",
      "el_node (1, 0) --> glob_node (6, 5) --> eq_vec (0, -1)\n",
      "el_node (1, 1) --> glob_node (6, 6) --> eq_vec (0, 0)\n",
      "\t----> accumulating to global\n",
      "el_node (1, 2) --> glob_node (6, 11) --> eq_vec (0, 3)\n",
      "\t----> accumulating to global\n",
      "el_node (1, 3) --> glob_node (6, 10) --> eq_vec (0, -1)\n",
      "el_node (2, 0) --> glob_node (11, 5) --> eq_vec (3, -1)\n",
      "el_node (2, 1) --> glob_node (11, 6) --> eq_vec (3, 0)\n",
      "\t----> accumulating to global\n",
      "el_node (2, 2) --> glob_node (11, 11) --> eq_vec (3, 3)\n",
      "\t----> accumulating to global\n",
      "el_node (2, 3) --> glob_node (11, 10) --> eq_vec (3, -1)\n",
      "el_node (3, 0) --> glob_node (10, 5) --> eq_vec (-1, -1)\n",
      "el_node (3, 1) --> glob_node (10, 6) --> eq_vec (-1, 0)\n",
      "el_node (3, 2) --> glob_node (10, 11) --> eq_vec (-1, 3)\n",
      "el_node (3, 3) --> glob_node (10, 10) --> eq_vec (-1, -1)\n",
      "node 5 --> equation -1\n",
      "node 6 --> equation 0\n",
      "\tnode 6 --> pos [1] on local_f\n",
      "node 11 --> equation 3\n",
      "\tnode 11 --> pos [2] on local_f\n",
      "node 10 --> equation -1\n",
      "++++++++++++++++++++++++++++++++++++++++++++++++++++++++++++\n",
      "global nodes --> [ 6  7 12 11]\n",
      "f on nodes --> [  2.96088132e+01   2.79154568e+01   3.62603383e-15   1.39577284e+01]\n",
      "prescribed on nodes --> [ 0.  0.  0.  0.]\n",
      "global node 6 --> point [ 0.25  0.25] on R2\n",
      "global node 7 --> point [ 0.5   0.25] on R2\n",
      "global node 12 --> point [ 0.5  0.5] on R2\n",
      "global node 11 --> point [ 0.25  0.5 ] on R2\n",
      "el_node (0, 0) --> glob_node (6, 6) --> eq_vec (0, 0)\n",
      "\t----> accumulating to global\n",
      "el_node (0, 1) --> glob_node (6, 7) --> eq_vec (0, 1)\n",
      "\t----> accumulating to global\n",
      "el_node (0, 2) --> glob_node (6, 12) --> eq_vec (0, 4)\n",
      "\t----> accumulating to global\n",
      "el_node (0, 3) --> glob_node (6, 11) --> eq_vec (0, 3)\n",
      "\t----> accumulating to global\n",
      "el_node (1, 0) --> glob_node (7, 6) --> eq_vec (1, 0)\n",
      "\t----> accumulating to global\n",
      "el_node (1, 1) --> glob_node (7, 7) --> eq_vec (1, 1)\n",
      "\t----> accumulating to global\n",
      "el_node (1, 2) --> glob_node (7, 12) --> eq_vec (1, 4)\n",
      "\t----> accumulating to global\n",
      "el_node (1, 3) --> glob_node (7, 11) --> eq_vec (1, 3)\n",
      "\t----> accumulating to global\n",
      "el_node (2, 0) --> glob_node (12, 6) --> eq_vec (4, 0)\n",
      "\t----> accumulating to global\n",
      "el_node (2, 1) --> glob_node (12, 7) --> eq_vec (4, 1)\n",
      "\t----> accumulating to global\n",
      "el_node (2, 2) --> glob_node (12, 12) --> eq_vec (4, 4)\n",
      "\t----> accumulating to global\n",
      "el_node (2, 3) --> glob_node (12, 11) --> eq_vec (4, 3)\n",
      "\t----> accumulating to global\n",
      "el_node (3, 0) --> glob_node (11, 6) --> eq_vec (3, 0)\n",
      "\t----> accumulating to global\n",
      "el_node (3, 1) --> glob_node (11, 7) --> eq_vec (3, 1)\n",
      "\t----> accumulating to global\n",
      "el_node (3, 2) --> glob_node (11, 12) --> eq_vec (3, 4)\n",
      "\t----> accumulating to global\n",
      "el_node (3, 3) --> glob_node (11, 11) --> eq_vec (3, 3)\n",
      "\t----> accumulating to global\n",
      "node 6 --> equation 0\n",
      "\tnode 6 --> pos [0] on local_f\n",
      "node 7 --> equation 1\n",
      "\tnode 7 --> pos [1] on local_f\n",
      "node 12 --> equation 4\n",
      "\tnode 12 --> pos [2] on local_f\n",
      "node 11 --> equation 3\n",
      "\tnode 11 --> pos [3] on local_f\n",
      "++++++++++++++++++++++++++++++++++++++++++++++++++++++++++++\n",
      "global nodes --> [ 7  8 13 12]\n",
      "f on nodes --> [  2.79154568e+01   9.86960440e+00  -1.39577284e+01   3.62603383e-15]\n",
      "prescribed on nodes --> [ 0.  0.  0.  0.]\n",
      "global node 7 --> point [ 0.5   0.25] on R2\n",
      "global node 8 --> point [ 0.75  0.25] on R2\n",
      "global node 13 --> point [ 0.75  0.5 ] on R2\n",
      "global node 12 --> point [ 0.5  0.5] on R2\n",
      "el_node (0, 0) --> glob_node (7, 7) --> eq_vec (1, 1)\n",
      "\t----> accumulating to global\n",
      "el_node (0, 1) --> glob_node (7, 8) --> eq_vec (1, 2)\n",
      "\t----> accumulating to global\n",
      "el_node (0, 2) --> glob_node (7, 13) --> eq_vec (1, 5)\n",
      "\t----> accumulating to global\n",
      "el_node (0, 3) --> glob_node (7, 12) --> eq_vec (1, 4)\n",
      "\t----> accumulating to global\n",
      "el_node (1, 0) --> glob_node (8, 7) --> eq_vec (2, 1)\n",
      "\t----> accumulating to global\n",
      "el_node (1, 1) --> glob_node (8, 8) --> eq_vec (2, 2)\n",
      "\t----> accumulating to global\n",
      "el_node (1, 2) --> glob_node (8, 13) --> eq_vec (2, 5)\n",
      "\t----> accumulating to global\n",
      "el_node (1, 3) --> glob_node (8, 12) --> eq_vec (2, 4)\n",
      "\t----> accumulating to global\n",
      "el_node (2, 0) --> glob_node (13, 7) --> eq_vec (5, 1)\n",
      "\t----> accumulating to global\n",
      "el_node (2, 1) --> glob_node (13, 8) --> eq_vec (5, 2)\n",
      "\t----> accumulating to global\n",
      "el_node (2, 2) --> glob_node (13, 13) --> eq_vec (5, 5)\n",
      "\t----> accumulating to global\n",
      "el_node (2, 3) --> glob_node (13, 12) --> eq_vec (5, 4)\n",
      "\t----> accumulating to global\n",
      "el_node (3, 0) --> glob_node (12, 7) --> eq_vec (4, 1)\n",
      "\t----> accumulating to global\n",
      "el_node (3, 1) --> glob_node (12, 8) --> eq_vec (4, 2)\n",
      "\t----> accumulating to global\n",
      "el_node (3, 2) --> glob_node (12, 13) --> eq_vec (4, 5)\n",
      "\t----> accumulating to global\n",
      "el_node (3, 3) --> glob_node (12, 12) --> eq_vec (4, 4)\n",
      "\t----> accumulating to global\n",
      "node 7 --> equation 1\n",
      "\tnode 7 --> pos [0] on local_f\n",
      "node 8 --> equation 2\n",
      "\tnode 8 --> pos [1] on local_f\n",
      "node 13 --> equation 5\n",
      "\tnode 13 --> pos [2] on local_f\n",
      "node 12 --> equation 4\n",
      "\tnode 12 --> pos [3] on local_f\n",
      "++++++++++++++++++++++++++++++++++++++++++++++++++++++++++++\n",
      "global nodes --> [ 8  9 14 13]\n",
      "f on nodes --> [  9.8696044 -13.9577284 -19.7392088 -13.9577284]\n",
      "prescribed on nodes --> [ 0.  0.  0.  0.]\n",
      "global node 8 --> point [ 0.75  0.25] on R2\n",
      "global node 9 --> point [ 1.    0.25] on R2\n",
      "global node 14 --> point [ 1.   0.5] on R2\n",
      "global node 13 --> point [ 0.75  0.5 ] on R2\n",
      "el_node (0, 0) --> glob_node (8, 8) --> eq_vec (2, 2)\n",
      "\t----> accumulating to global\n",
      "el_node (0, 1) --> glob_node (8, 9) --> eq_vec (2, -1)\n",
      "el_node (0, 2) --> glob_node (8, 14) --> eq_vec (2, -1)\n",
      "el_node (0, 3) --> glob_node (8, 13) --> eq_vec (2, 5)\n",
      "\t----> accumulating to global\n",
      "el_node (1, 0) --> glob_node (9, 8) --> eq_vec (-1, 2)\n",
      "el_node (1, 1) --> glob_node (9, 9) --> eq_vec (-1, -1)\n",
      "el_node (1, 2) --> glob_node (9, 14) --> eq_vec (-1, -1)\n",
      "el_node (1, 3) --> glob_node (9, 13) --> eq_vec (-1, 5)\n",
      "el_node (2, 0) --> glob_node (14, 8) --> eq_vec (-1, 2)\n",
      "el_node (2, 1) --> glob_node (14, 9) --> eq_vec (-1, -1)\n",
      "el_node (2, 2) --> glob_node (14, 14) --> eq_vec (-1, -1)\n",
      "el_node (2, 3) --> glob_node (14, 13) --> eq_vec (-1, 5)\n",
      "el_node (3, 0) --> glob_node (13, 8) --> eq_vec (5, 2)\n",
      "\t----> accumulating to global\n",
      "el_node (3, 1) --> glob_node (13, 9) --> eq_vec (5, -1)\n",
      "el_node (3, 2) --> glob_node (13, 14) --> eq_vec (5, -1)\n",
      "el_node (3, 3) --> glob_node (13, 13) --> eq_vec (5, 5)\n",
      "\t----> accumulating to global\n",
      "node 8 --> equation 2\n",
      "\tnode 8 --> pos [0] on local_f\n",
      "node 9 --> equation -1\n",
      "node 14 --> equation -1\n",
      "node 13 --> equation 5\n",
      "\tnode 13 --> pos [3] on local_f\n",
      "++++++++++++++++++++++++++++++++++++++++++++++++++++++++++++\n",
      "global nodes --> [10 11 16 15]\n",
      "f on nodes --> [ 19.7392088  13.9577284  -9.8696044  13.9577284]\n",
      "prescribed on nodes --> [ 0.  0.  0.  0.]\n",
      "global node 10 --> point [ 0.   0.5] on R2\n",
      "global node 11 --> point [ 0.25  0.5 ] on R2\n",
      "global node 16 --> point [ 0.25  0.75] on R2\n",
      "global node 15 --> point [ 0.    0.75] on R2\n",
      "el_node (0, 0) --> glob_node (10, 10) --> eq_vec (-1, -1)\n",
      "el_node (0, 1) --> glob_node (10, 11) --> eq_vec (-1, 3)\n",
      "el_node (0, 2) --> glob_node (10, 16) --> eq_vec (-1, 6)\n",
      "el_node (0, 3) --> glob_node (10, 15) --> eq_vec (-1, -1)\n",
      "el_node (1, 0) --> glob_node (11, 10) --> eq_vec (3, -1)\n",
      "el_node (1, 1) --> glob_node (11, 11) --> eq_vec (3, 3)\n",
      "\t----> accumulating to global\n",
      "el_node (1, 2) --> glob_node (11, 16) --> eq_vec (3, 6)\n",
      "\t----> accumulating to global\n",
      "el_node (1, 3) --> glob_node (11, 15) --> eq_vec (3, -1)\n",
      "el_node (2, 0) --> glob_node (16, 10) --> eq_vec (6, -1)\n",
      "el_node (2, 1) --> glob_node (16, 11) --> eq_vec (6, 3)\n",
      "\t----> accumulating to global\n",
      "el_node (2, 2) --> glob_node (16, 16) --> eq_vec (6, 6)\n",
      "\t----> accumulating to global\n",
      "el_node (2, 3) --> glob_node (16, 15) --> eq_vec (6, -1)\n",
      "el_node (3, 0) --> glob_node (15, 10) --> eq_vec (-1, -1)\n",
      "el_node (3, 1) --> glob_node (15, 11) --> eq_vec (-1, 3)\n",
      "el_node (3, 2) --> glob_node (15, 16) --> eq_vec (-1, 6)\n",
      "el_node (3, 3) --> glob_node (15, 15) --> eq_vec (-1, -1)\n",
      "node 10 --> equation -1\n",
      "node 11 --> equation 3\n",
      "\tnode 11 --> pos [1] on local_f\n",
      "node 16 --> equation 6\n",
      "\tnode 16 --> pos [2] on local_f\n",
      "node 15 --> equation -1\n",
      "++++++++++++++++++++++++++++++++++++++++++++++++++++++++++++\n",
      "global nodes --> [11 12 17 16]\n",
      "f on nodes --> [  1.39577284e+01   3.62603383e-15  -2.79154568e+01  -9.86960440e+00]\n",
      "prescribed on nodes --> [ 0.  0.  0.  0.]\n",
      "global node 11 --> point [ 0.25  0.5 ] on R2\n",
      "global node 12 --> point [ 0.5  0.5] on R2\n",
      "global node 17 --> point [ 0.5   0.75] on R2\n",
      "global node 16 --> point [ 0.25  0.75] on R2\n",
      "el_node (0, 0) --> glob_node (11, 11) --> eq_vec (3, 3)\n",
      "\t----> accumulating to global\n",
      "el_node (0, 1) --> glob_node (11, 12) --> eq_vec (3, 4)\n",
      "\t----> accumulating to global\n",
      "el_node (0, 2) --> glob_node (11, 17) --> eq_vec (3, 7)\n",
      "\t----> accumulating to global\n",
      "el_node (0, 3) --> glob_node (11, 16) --> eq_vec (3, 6)\n",
      "\t----> accumulating to global\n",
      "el_node (1, 0) --> glob_node (12, 11) --> eq_vec (4, 3)\n",
      "\t----> accumulating to global\n",
      "el_node (1, 1) --> glob_node (12, 12) --> eq_vec (4, 4)\n",
      "\t----> accumulating to global\n",
      "el_node (1, 2) --> glob_node (12, 17) --> eq_vec (4, 7)\n",
      "\t----> accumulating to global\n",
      "el_node (1, 3) --> glob_node (12, 16) --> eq_vec (4, 6)\n",
      "\t----> accumulating to global\n",
      "el_node (2, 0) --> glob_node (17, 11) --> eq_vec (7, 3)\n",
      "\t----> accumulating to global\n",
      "el_node (2, 1) --> glob_node (17, 12) --> eq_vec (7, 4)\n",
      "\t----> accumulating to global\n",
      "el_node (2, 2) --> glob_node (17, 17) --> eq_vec (7, 7)\n",
      "\t----> accumulating to global\n",
      "el_node (2, 3) --> glob_node (17, 16) --> eq_vec (7, 6)\n",
      "\t----> accumulating to global\n",
      "el_node (3, 0) --> glob_node (16, 11) --> eq_vec (6, 3)\n",
      "\t----> accumulating to global\n",
      "el_node (3, 1) --> glob_node (16, 12) --> eq_vec (6, 4)\n",
      "\t----> accumulating to global\n",
      "el_node (3, 2) --> glob_node (16, 17) --> eq_vec (6, 7)\n",
      "\t----> accumulating to global\n",
      "el_node (3, 3) --> glob_node (16, 16) --> eq_vec (6, 6)\n",
      "\t----> accumulating to global\n",
      "node 11 --> equation 3\n",
      "\tnode 11 --> pos [0] on local_f\n",
      "node 12 --> equation 4\n",
      "\tnode 12 --> pos [1] on local_f\n",
      "node 17 --> equation 7\n"
     ]
    },
    {
     "name": "stdout",
     "output_type": "stream",
     "text": [
      "\tnode 17 --> pos [2] on local_f\n",
      "node 16 --> equation 6\n",
      "\tnode 16 --> pos [3] on local_f\n",
      "++++++++++++++++++++++++++++++++++++++++++++++++++++++++++++\n",
      "global nodes --> [12 13 18 17]\n",
      "f on nodes --> [  3.62603383e-15  -1.39577284e+01  -2.96088132e+01  -2.79154568e+01]\n",
      "prescribed on nodes --> [ 0.  0.  0.  0.]\n",
      "global node 12 --> point [ 0.5  0.5] on R2\n",
      "global node 13 --> point [ 0.75  0.5 ] on R2\n",
      "global node 18 --> point [ 0.75  0.75] on R2\n",
      "global node 17 --> point [ 0.5   0.75] on R2\n",
      "el_node (0, 0) --> glob_node (12, 12) --> eq_vec (4, 4)\n",
      "\t----> accumulating to global\n",
      "el_node (0, 1) --> glob_node (12, 13) --> eq_vec (4, 5)\n",
      "\t----> accumulating to global\n",
      "el_node (0, 2) --> glob_node (12, 18) --> eq_vec (4, 8)\n",
      "\t----> accumulating to global\n",
      "el_node (0, 3) --> glob_node (12, 17) --> eq_vec (4, 7)\n",
      "\t----> accumulating to global\n",
      "el_node (1, 0) --> glob_node (13, 12) --> eq_vec (5, 4)\n",
      "\t----> accumulating to global\n",
      "el_node (1, 1) --> glob_node (13, 13) --> eq_vec (5, 5)\n",
      "\t----> accumulating to global\n",
      "el_node (1, 2) --> glob_node (13, 18) --> eq_vec (5, 8)\n",
      "\t----> accumulating to global\n",
      "el_node (1, 3) --> glob_node (13, 17) --> eq_vec (5, 7)\n",
      "\t----> accumulating to global\n",
      "el_node (2, 0) --> glob_node (18, 12) --> eq_vec (8, 4)\n",
      "\t----> accumulating to global\n",
      "el_node (2, 1) --> glob_node (18, 13) --> eq_vec (8, 5)\n",
      "\t----> accumulating to global\n",
      "el_node (2, 2) --> glob_node (18, 18) --> eq_vec (8, 8)\n",
      "\t----> accumulating to global\n",
      "el_node (2, 3) --> glob_node (18, 17) --> eq_vec (8, 7)\n",
      "\t----> accumulating to global\n",
      "el_node (3, 0) --> glob_node (17, 12) --> eq_vec (7, 4)\n",
      "\t----> accumulating to global\n",
      "el_node (3, 1) --> glob_node (17, 13) --> eq_vec (7, 5)\n",
      "\t----> accumulating to global\n",
      "el_node (3, 2) --> glob_node (17, 18) --> eq_vec (7, 8)\n",
      "\t----> accumulating to global\n",
      "el_node (3, 3) --> glob_node (17, 17) --> eq_vec (7, 7)\n",
      "\t----> accumulating to global\n",
      "node 12 --> equation 4\n",
      "\tnode 12 --> pos [0] on local_f\n",
      "node 13 --> equation 5\n",
      "\tnode 13 --> pos [1] on local_f\n",
      "node 18 --> equation 8\n",
      "\tnode 18 --> pos [2] on local_f\n",
      "node 17 --> equation 7\n",
      "\tnode 17 --> pos [3] on local_f\n",
      "++++++++++++++++++++++++++++++++++++++++++++++++++++++++++++\n",
      "global nodes --> [13 14 19 18]\n",
      "f on nodes --> [-13.9577284 -19.7392088 -13.9577284 -29.6088132]\n",
      "prescribed on nodes --> [ 0.  0.  0.  0.]\n",
      "global node 13 --> point [ 0.75  0.5 ] on R2\n",
      "global node 14 --> point [ 1.   0.5] on R2\n",
      "global node 19 --> point [ 1.    0.75] on R2\n",
      "global node 18 --> point [ 0.75  0.75] on R2\n",
      "el_node (0, 0) --> glob_node (13, 13) --> eq_vec (5, 5)\n",
      "\t----> accumulating to global\n",
      "el_node (0, 1) --> glob_node (13, 14) --> eq_vec (5, -1)\n",
      "el_node (0, 2) --> glob_node (13, 19) --> eq_vec (5, -1)\n",
      "el_node (0, 3) --> glob_node (13, 18) --> eq_vec (5, 8)\n",
      "\t----> accumulating to global\n",
      "el_node (1, 0) --> glob_node (14, 13) --> eq_vec (-1, 5)\n",
      "el_node (1, 1) --> glob_node (14, 14) --> eq_vec (-1, -1)\n",
      "el_node (1, 2) --> glob_node (14, 19) --> eq_vec (-1, -1)\n",
      "el_node (1, 3) --> glob_node (14, 18) --> eq_vec (-1, 8)\n",
      "el_node (2, 0) --> glob_node (19, 13) --> eq_vec (-1, 5)\n",
      "el_node (2, 1) --> glob_node (19, 14) --> eq_vec (-1, -1)\n",
      "el_node (2, 2) --> glob_node (19, 19) --> eq_vec (-1, -1)\n",
      "el_node (2, 3) --> glob_node (19, 18) --> eq_vec (-1, 8)\n",
      "el_node (3, 0) --> glob_node (18, 13) --> eq_vec (8, 5)\n",
      "\t----> accumulating to global\n",
      "el_node (3, 1) --> glob_node (18, 14) --> eq_vec (8, -1)\n",
      "el_node (3, 2) --> glob_node (18, 19) --> eq_vec (8, -1)\n",
      "el_node (3, 3) --> glob_node (18, 18) --> eq_vec (8, 8)\n",
      "\t----> accumulating to global\n",
      "node 13 --> equation 5\n",
      "\tnode 13 --> pos [0] on local_f\n",
      "node 14 --> equation -1\n",
      "node 19 --> equation -1\n",
      "node 18 --> equation 8\n",
      "\tnode 18 --> pos [3] on local_f\n",
      "++++++++++++++++++++++++++++++++++++++++++++++++++++++++++++\n",
      "global nodes --> [15 16 21 20]\n",
      "f on nodes --> [  1.39577284e+01  -9.86960440e+00  -2.79154568e+01   2.41735589e-15]\n",
      "prescribed on nodes --> [ 0.          0.         -0.70710678 -0.        ]\n",
      "global node 15 --> point [ 0.    0.75] on R2\n",
      "global node 16 --> point [ 0.25  0.75] on R2\n",
      "global node 21 --> point [ 0.25  1.  ] on R2\n",
      "global node 20 --> point [ 0.  1.] on R2\n",
      "el_node (0, 0) --> glob_node (15, 15) --> eq_vec (-1, -1)\n",
      "el_node (0, 1) --> glob_node (15, 16) --> eq_vec (-1, 6)\n",
      "el_node (0, 2) --> glob_node (15, 21) --> eq_vec (-1, -1)\n",
      "el_node (0, 3) --> glob_node (15, 20) --> eq_vec (-1, -1)\n",
      "el_node (1, 0) --> glob_node (16, 15) --> eq_vec (6, -1)\n",
      "el_node (1, 1) --> glob_node (16, 16) --> eq_vec (6, 6)\n",
      "\t----> accumulating to global\n",
      "el_node (1, 2) --> glob_node (16, 21) --> eq_vec (6, -1)\n",
      "el_node (1, 3) --> glob_node (16, 20) --> eq_vec (6, -1)\n",
      "el_node (2, 0) --> glob_node (21, 15) --> eq_vec (-1, -1)\n",
      "el_node (2, 1) --> glob_node (21, 16) --> eq_vec (-1, 6)\n",
      "el_node (2, 2) --> glob_node (21, 21) --> eq_vec (-1, -1)\n",
      "el_node (2, 3) --> glob_node (21, 20) --> eq_vec (-1, -1)\n",
      "el_node (3, 0) --> glob_node (20, 15) --> eq_vec (-1, -1)\n",
      "el_node (3, 1) --> glob_node (20, 16) --> eq_vec (-1, 6)\n",
      "el_node (3, 2) --> glob_node (20, 21) --> eq_vec (-1, -1)\n",
      "el_node (3, 3) --> glob_node (20, 20) --> eq_vec (-1, -1)\n",
      "node 15 --> equation -1\n",
      "node 16 --> equation 6\n",
      "\tnode 16 --> pos [1] on local_f\n",
      "node 21 --> equation -1\n",
      "node 20 --> equation -1\n",
      "++++++++++++++++++++++++++++++++++++++++++++++++++++++++++++\n",
      "global nodes --> [16 17 22 21]\n",
      "f on nodes --> [ -9.8696044 -27.9154568 -39.4784176 -27.9154568]\n",
      "prescribed on nodes --> [ 0.          0.         -1.         -0.70710678]\n",
      "global node 16 --> point [ 0.25  0.75] on R2\n",
      "global node 17 --> point [ 0.5   0.75] on R2\n",
      "global node 22 --> point [ 0.5  1. ] on R2\n",
      "global node 21 --> point [ 0.25  1.  ] on R2\n",
      "el_node (0, 0) --> glob_node (16, 16) --> eq_vec (6, 6)\n",
      "\t----> accumulating to global\n",
      "el_node (0, 1) --> glob_node (16, 17) --> eq_vec (6, 7)\n",
      "\t----> accumulating to global\n",
      "el_node (0, 2) --> glob_node (16, 22) --> eq_vec (6, -1)\n",
      "el_node (0, 3) --> glob_node (16, 21) --> eq_vec (6, -1)\n",
      "el_node (1, 0) --> glob_node (17, 16) --> eq_vec (7, 6)\n",
      "\t----> accumulating to global\n",
      "el_node (1, 1) --> glob_node (17, 17) --> eq_vec (7, 7)\n",
      "\t----> accumulating to global\n",
      "el_node (1, 2) --> glob_node (17, 22) --> eq_vec (7, -1)\n",
      "el_node (1, 3) --> glob_node (17, 21) --> eq_vec (7, -1)\n",
      "el_node (2, 0) --> glob_node (22, 16) --> eq_vec (-1, 6)\n",
      "el_node (2, 1) --> glob_node (22, 17) --> eq_vec (-1, 7)\n",
      "el_node (2, 2) --> glob_node (22, 22) --> eq_vec (-1, -1)\n",
      "el_node (2, 3) --> glob_node (22, 21) --> eq_vec (-1, -1)\n",
      "el_node (3, 0) --> glob_node (21, 16) --> eq_vec (-1, 6)\n",
      "el_node (3, 1) --> glob_node (21, 17) --> eq_vec (-1, 7)\n",
      "el_node (3, 2) --> glob_node (21, 22) --> eq_vec (-1, -1)\n",
      "el_node (3, 3) --> glob_node (21, 21) --> eq_vec (-1, -1)\n",
      "node 16 --> equation 6\n",
      "\tnode 16 --> pos [0] on local_f\n",
      "node 17 --> equation 7\n",
      "\tnode 17 --> pos [1] on local_f\n",
      "node 22 --> equation -1\n",
      "node 21 --> equation -1\n",
      "++++++++++++++++++++++++++++++++++++++++++++++++++++++++++++\n",
      "global nodes --> [17 18 23 22]\n",
      "f on nodes --> [-27.9154568 -29.6088132 -27.9154568 -39.4784176]\n",
      "prescribed on nodes --> [ 0.          0.         -0.70710678 -1.        ]\n",
      "global node 17 --> point [ 0.5   0.75] on R2\n",
      "global node 18 --> point [ 0.75  0.75] on R2\n",
      "global node 23 --> point [ 0.75  1.  ] on R2\n",
      "global node 22 --> point [ 0.5  1. ] on R2\n",
      "el_node (0, 0) --> glob_node (17, 17) --> eq_vec (7, 7)\n",
      "\t----> accumulating to global\n",
      "el_node (0, 1) --> glob_node (17, 18) --> eq_vec (7, 8)\n",
      "\t----> accumulating to global\n",
      "el_node (0, 2) --> glob_node (17, 23) --> eq_vec (7, -1)\n",
      "el_node (0, 3) --> glob_node (17, 22) --> eq_vec (7, -1)\n",
      "el_node (1, 0) --> glob_node (18, 17) --> eq_vec (8, 7)\n",
      "\t----> accumulating to global\n",
      "el_node (1, 1) --> glob_node (18, 18) --> eq_vec (8, 8)\n",
      "\t----> accumulating to global\n",
      "el_node (1, 2) --> glob_node (18, 23) --> eq_vec (8, -1)\n",
      "el_node (1, 3) --> glob_node (18, 22) --> eq_vec (8, -1)\n",
      "el_node (2, 0) --> glob_node (23, 17) --> eq_vec (-1, 7)\n",
      "el_node (2, 1) --> glob_node (23, 18) --> eq_vec (-1, 8)\n",
      "el_node (2, 2) --> glob_node (23, 23) --> eq_vec (-1, -1)\n",
      "el_node (2, 3) --> glob_node (23, 22) --> eq_vec (-1, -1)\n",
      "el_node (3, 0) --> glob_node (22, 17) --> eq_vec (-1, 7)\n",
      "el_node (3, 1) --> glob_node (22, 18) --> eq_vec (-1, 8)\n",
      "el_node (3, 2) --> glob_node (22, 23) --> eq_vec (-1, -1)\n",
      "el_node (3, 3) --> glob_node (22, 22) --> eq_vec (-1, -1)\n",
      "node 17 --> equation 7\n",
      "\tnode 17 --> pos [0] on local_f\n",
      "node 18 --> equation 8\n",
      "\tnode 18 --> pos [1] on local_f\n",
      "node 23 --> equation -1\n",
      "node 22 --> equation -1\n",
      "++++++++++++++++++++++++++++++++++++++++++++++++++++++++++++\n",
      "global nodes --> [18 19 24 23]\n",
      "f on nodes --> [ -2.96088132e+01  -1.39577284e+01  -7.25206766e-15  -2.79154568e+01]\n",
      "prescribed on nodes --> [  0.00000000e+00   0.00000000e+00  -1.22464680e-16  -7.07106781e-01]\n",
      "global node 18 --> point [ 0.75  0.75] on R2\n",
      "global node 19 --> point [ 1.    0.75] on R2\n",
      "global node 24 --> point [ 1.  1.] on R2\n",
      "global node 23 --> point [ 0.75  1.  ] on R2\n",
      "el_node (0, 0) --> glob_node (18, 18) --> eq_vec (8, 8)\n",
      "\t----> accumulating to global\n",
      "el_node (0, 1) --> glob_node (18, 19) --> eq_vec (8, -1)\n",
      "el_node (0, 2) --> glob_node (18, 24) --> eq_vec (8, -1)\n",
      "el_node (0, 3) --> glob_node (18, 23) --> eq_vec (8, -1)\n",
      "el_node (1, 0) --> glob_node (19, 18) --> eq_vec (-1, 8)\n",
      "el_node (1, 1) --> glob_node (19, 19) --> eq_vec (-1, -1)\n",
      "el_node (1, 2) --> glob_node (19, 24) --> eq_vec (-1, -1)\n",
      "el_node (1, 3) --> glob_node (19, 23) --> eq_vec (-1, -1)\n",
      "el_node (2, 0) --> glob_node (24, 18) --> eq_vec (-1, 8)\n",
      "el_node (2, 1) --> glob_node (24, 19) --> eq_vec (-1, -1)\n",
      "el_node (2, 2) --> glob_node (24, 24) --> eq_vec (-1, -1)\n",
      "el_node (2, 3) --> glob_node (24, 23) --> eq_vec (-1, -1)\n",
      "el_node (3, 0) --> glob_node (23, 18) --> eq_vec (-1, 8)\n",
      "el_node (3, 1) --> glob_node (23, 19) --> eq_vec (-1, -1)\n",
      "el_node (3, 2) --> glob_node (23, 24) --> eq_vec (-1, -1)\n",
      "el_node (3, 3) --> glob_node (23, 23) --> eq_vec (-1, -1)\n",
      "node 18 --> equation 8\n",
      "\tnode 18 --> pos [0] on local_f\n",
      "node 19 --> equation -1\n",
      "node 24 --> equation -1\n",
      "node 23 --> equation -1\n",
      "++++++++++++++++++++++++++++++++++++++++++++++++++++++++++++\n"
     ]
    }
   ],
   "source": [
    "K, F = l2g(EQ_vector, G, Q_ab, f, prescribed, verbose=True)"
   ]
  },
  {
   "cell_type": "code",
   "execution_count": 18,
   "metadata": {},
   "outputs": [
    {
     "data": {
      "text/plain": [
       "array([[ True,  True,  True, False,  True,  True,  True,  True,  True],\n",
       "       [ True,  True,  True,  True, False,  True,  True,  True,  True],\n",
       "       [ True,  True,  True,  True,  True, False,  True,  True,  True],\n",
       "       [False,  True,  True,  True,  True,  True,  True,  True,  True],\n",
       "       [ True, False,  True,  True,  True,  True,  True,  True,  True],\n",
       "       [ True,  True, False,  True,  True,  True,  True,  True,  True],\n",
       "       [ True,  True,  True,  True,  True,  True,  True,  True,  True],\n",
       "       [ True,  True,  True,  True,  True,  True,  True,  True,  True],\n",
       "       [ True,  True,  True,  True,  True,  True,  True,  True,  True]], dtype=bool)"
      ]
     },
     "execution_count": 18,
     "metadata": {},
     "output_type": "execute_result"
    }
   ],
   "source": [
    "K == K.T"
   ]
  },
  {
   "cell_type": "code",
   "execution_count": 19,
   "metadata": {},
   "outputs": [
    {
     "name": "stdout",
     "output_type": "stream",
     "text": [
      "-0.666666666666667 == -0.6666666666666667\n",
      "-0.6666666666666664 == -0.6666666666666663\n",
      "-0.6666666666666664 == -0.6666666666666663\n"
     ]
    }
   ],
   "source": [
    "print('{0} == {1}'.format(K[3,0], K[0,3]))\n",
    "print('{0} == {1}'.format(K[4,1], K[1,4]))\n",
    "print('{0} == {1}'.format(K[5,2], K[2,5]))"
   ]
  },
  {
   "cell_type": "code",
   "execution_count": 20,
   "metadata": {},
   "outputs": [
    {
     "name": "stdout",
     "output_type": "stream",
     "text": [
      "2.1449186167\n",
      "3.03014508882\n",
      "2.14035366387\n",
      "0.710334690285\n",
      "4.16333634234e-16\n",
      "-0.710334690285\n",
      "-2.14035366387\n",
      "-3.03014508882\n",
      "-2.1449186167\n"
     ]
    }
   ],
   "source": [
    "for x in F:\n",
    "    print(x)"
   ]
  },
  {
   "cell_type": "code",
   "execution_count": 21,
   "metadata": {},
   "outputs": [],
   "source": [
    "d = np.linalg.solve(K, F)"
   ]
  },
  {
   "cell_type": "code",
   "execution_count": 22,
   "metadata": {
    "scrolled": true
   },
   "outputs": [
    {
     "name": "stdout",
     "output_type": "stream",
     "text": [
      "0.488862296711\n",
      "0.68934808206\n",
      "0.486963276411\n",
      "0.00417236657972\n",
      "2.85551245605e-16\n",
      "-0.00417236657972\n",
      "-0.486963276411\n",
      "-0.68934808206\n",
      "-0.488862296711\n"
     ]
    }
   ],
   "source": [
    "for x in d:\n",
    "    print(x)"
   ]
  },
  {
   "cell_type": "code",
   "execution_count": 23,
   "metadata": {
    "collapsed": true
   },
   "outputs": [],
   "source": [
    "known_sols = np.concatenate((gamma_1, gamma_2, gamma_3, gamma_4),axis=0)"
   ]
  },
  {
   "cell_type": "code",
   "execution_count": 24,
   "metadata": {},
   "outputs": [
    {
     "data": {
      "text/plain": [
       "array([ 0,  1,  2,  3,  4,  4,  9, 14, 19, 24, 20, 21, 22, 23, 24,  0,  5,\n",
       "       10, 15, 20])"
      ]
     },
     "execution_count": 24,
     "metadata": {},
     "output_type": "execute_result"
    }
   ],
   "source": [
    "known_sols"
   ]
  },
  {
   "cell_type": "code",
   "execution_count": 25,
   "metadata": {
    "collapsed": true
   },
   "outputs": [],
   "source": [
    "d_sols = np.setdiff1d(np.arange(nodes_n), known_sols)"
   ]
  },
  {
   "cell_type": "code",
   "execution_count": 26,
   "metadata": {},
   "outputs": [
    {
     "data": {
      "text/plain": [
       "array([ 6,  7,  8, 11, 12, 13, 16, 17, 18])"
      ]
     },
     "execution_count": 26,
     "metadata": {},
     "output_type": "execute_result"
    }
   ],
   "source": [
    "d_sols"
   ]
  },
  {
   "cell_type": "code",
   "execution_count": 27,
   "metadata": {
    "collapsed": true
   },
   "outputs": [],
   "source": [
    "sols = prescribed\n",
    "sols[d_sols] = d"
   ]
  },
  {
   "cell_type": "code",
   "execution_count": 29,
   "metadata": {},
   "outputs": [
    {
     "data": {
      "image/png": "[encoded data removed]",
      "text/plain": [
       "<matplotlib.figure.Figure at 0x7ff2b6bfec18>"
      ]
     },
     "metadata": {},
     "output_type": "display_data"
    }
   ],
   "source": [
    "import matplotlib.pyplot as plt\n",
    "from mpl_toolkits.mplot3d import Axes3D\n",
    "fig = plt.figure(figsize=(12, 12))\n",
    "ax = fig.add_subplot(111, projection='3d')\n",
    "\n",
    "X, Y = Z[:,0], Z[:,1]\n",
    "\n",
    "ax.plot_trisurf(X, Y, sols)\n",
    "plt.show()"
   ]
  },
  {
   "cell_type": "code",
   "execution_count": null,
   "metadata": {
    "collapsed": true
   },
   "outputs": [],
   "source": []
  }
 ],
 "metadata": {
  "kernelspec": {
   "display_name": "Python 3",
   "language": "python",
   "name": "python3"
  },
  "language_info": {
   "codemirror_mode": {
    "name": "ipython",
    "version": 3
   },
   "file_extension": ".py",
   "mimetype": "text/x-python",
   "name": "python",
   "nbconvert_exporter": "python",
   "pygments_lexer": "ipython3",
   "version": "3.6.2"
  }
 },
 "nbformat": 4,
 "nbformat_minor": 2
}
