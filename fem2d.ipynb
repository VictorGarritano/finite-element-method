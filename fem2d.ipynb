{
 "cells": [
  {
   "cell_type": "code",
   "execution_count": 1,
   "metadata": {
    "collapsed": true
   },
   "outputs": [],
   "source": [
    "import numpy as np\n",
    "from k_local import build_local_k\n",
    "\n",
    "Q = np.array([\n",
    "        [1,0],\n",
    "        [0,1]\n",
    "    ])"
   ]
  },
  {
   "cell_type": "markdown",
   "metadata": {},
   "source": [
    "## Criação da discretização 2D, numeração dos nós e numeração dos elementos"
   ]
  },
  {
   "cell_type": "code",
   "execution_count": 2,
   "metadata": {
    "collapsed": true
   },
   "outputs": [],
   "source": [
    "nx = 7\n",
    "ny = 5\n",
    "X, Y = np.meshgrid(np.linspace(0,np.pi,nx), np.linspace(0,np.pi,ny))"
   ]
  },
  {
   "cell_type": "code",
   "execution_count": 3,
   "metadata": {
    "collapsed": true
   },
   "outputs": [],
   "source": [
    "Z = np.array(list(zip(X.ravel(), Y.ravel())))"
   ]
  },
  {
   "cell_type": "code",
   "execution_count": 4,
   "metadata": {},
   "outputs": [],
   "source": [
    "nodes = list(enumerate(Z))\n",
    "nodes_n = nodes[-1][0]"
   ]
  },
  {
   "cell_type": "code",
   "execution_count": 5,
   "metadata": {
    "collapsed": true
   },
   "outputs": [],
   "source": [
    "elements_n = (nx-1)*(ny-1)"
   ]
  },
  {
   "cell_type": "code",
   "execution_count": 6,
   "metadata": {
    "collapsed": true
   },
   "outputs": [],
   "source": [
    "G = np.zeros((4,elements_n))"
   ]
  },
  {
   "cell_type": "code",
   "execution_count": 7,
   "metadata": {
    "collapsed": true
   },
   "outputs": [],
   "source": [
    "num = 0\n",
    "for d in range(ny-1):\n",
    "    for i in range((nx-1)):\n",
    "        G[:,num] = np.array([i+d*nx, i+1+d*nx, i+nx+1+d*nx, i+nx+d*nx])\n",
    "        num+=1"
   ]
  },
  {
   "cell_type": "markdown",
   "metadata": {},
   "source": [
    "## Montagem da matriz rigidez local, e posterior mapeamento para a matriz rigidez global"
   ]
  },
  {
   "cell_type": "code",
   "execution_count": 8,
   "metadata": {},
   "outputs": [],
   "source": [
    "for x in range(G.shape[1]):\n",
    "    n_ = G[:,x]\n",
    "    l = list()\n",
    "    for idx in n_:\n",
    "        l.append(nodes[int(idx)][1])\n",
    "    M = np.array(l).T\n",
    "    K = build_local_k(M, Q)"
   ]
  },
  {
   "cell_type": "code",
   "execution_count": 9,
   "metadata": {},
   "outputs": [],
   "source": [
    "def l2g(local_matrix, EQ_vector, L2G_matrix):\n",
    "    #L2G_matrix sera o n_\n",
    "    nodes_per_elem, elem_n = L2G_matrix.shape\n",
    "    \n",
    "    eq_n = EQ_vector[-1] + 1\n",
    "    K = np.zeros((eq_n, eq_n))\n",
    "    \n",
    "    c = itertools.product(range(nodes_per_elem),repeat=2)\n",
    "    for x in c:\n",
    "        aux1 = L2G_matrix[x[0]]\n",
    "        aux2 = L2G_matrix[x[1]]\n",
    "\n",
    "        i = EQ_vector[aux1]\n",
    "        j = EQ_vector[aux2]\n",
    "\n",
    "        if i != -1 and j != -1:\n",
    "            K[i][j] += local_matrix[x[0]][x[1]]\n",
    "\n",
    "    return K"
   ]
  }
 ],
 "metadata": {
  "kernelspec": {
   "display_name": "Python 3",
   "language": "python",
   "name": "python3"
  },
  "language_info": {
   "codemirror_mode": {
    "name": "ipython",
    "version": 3
   },
   "file_extension": ".py",
   "mimetype": "text/x-python",
   "name": "python",
   "nbconvert_exporter": "python",
   "pygments_lexer": "ipython3",
   "version": "3.6.2"
  }
 },
 "nbformat": 4,
 "nbformat_minor": 2
}
