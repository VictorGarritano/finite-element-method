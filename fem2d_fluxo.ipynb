{
 "cells": [
  {
   "cell_type": "code",
   "execution_count": 1,
   "metadata": {
    "collapsed": true
   },
   "outputs": [],
   "source": [
    "import numpy as np\n",
    "import itertools\n",
    "\n",
    "Q = np.array([\n",
    "        [2,1],\n",
    "        [1,2]\n",
    "    ])"
   ]
  },
  {
   "cell_type": "code",
   "execution_count": 2,
   "metadata": {
    "collapsed": true
   },
   "outputs": [],
   "source": [
    "def gradient_interpolator(ksi_bold):\n",
    "    \"\"\"B Matrix\"\"\"\n",
    "    ksi, eta = ksi_bold[0], ksi_bold[1]\n",
    "    grad_phi1 = [-0.25*(1-eta), -0.25*(1-ksi)]\n",
    "    grad_phi2 = [0.25*(1-eta), -0.25*(1+ksi)]\n",
    "    grad_phi3 = [0.25*(1+eta), 0.25*(1+ksi)]\n",
    "    grad_phi4 = [-0.25*(1+eta), 0.25*(1-ksi)]\n",
    "\n",
    "    return np.array([\n",
    "        grad_phi1,\n",
    "        grad_phi2,\n",
    "        grad_phi3,\n",
    "        grad_phi4\n",
    "    ])\n",
    "\n",
    "jacobian = lambda x, y: x.dot(y)\n",
    "gamma = lambda j: np.linalg.inv(j)\n",
    "det_J = lambda j: np.linalg.det(j)\n",
    "\n",
    "gauss_points = [[-np.sqrt(3)/3,-np.sqrt(3)/3],\n",
    "                [np.sqrt(3)/3, -np.sqrt(3)/3],\n",
    "                [np.sqrt(3)/3, np.sqrt(3)/3],\n",
    "                [-np.sqrt(3)/3, np.sqrt(3)/3]]\n",
    "\n",
    "phi_1 = lambda ksi, eta: 0.25*(1-ksi)*(1-eta)\n",
    "phi_2 = lambda ksi, eta: 0.25*(1+ksi)*(1-eta)\n",
    "phi_3 = lambda ksi, eta: 0.25*(1+ksi)*(1+eta)\n",
    "phi_4 = lambda ksi, eta: 0.25*(1-ksi)*(1+eta)\n",
    "\n",
    "phis = np.array([\n",
    "    phi_1,\n",
    "    phi_2,\n",
    "    phi_3,\n",
    "    phi_4\n",
    "])\n",
    "\n",
    "def build_local(M, Q, Q_ab, f_on_nodes, prescribed_vals, flow_vals, glob=False):\n",
    "    from itertools import product\n",
    "    \n",
    "    tipos, flow = flow_vals\n",
    "    \n",
    "    if type(tipos) == int:\n",
    "        t = list()\n",
    "        t.append(tipos)\n",
    "        tipos = t\n",
    "    \n",
    "    F = np.zeros((4,4))\n",
    "    \n",
    "    if len(tipos) > 0:\n",
    "        tipos = np.array([tipos])\n",
    "        tipos = tipos.reshape(tipos.shape[1],1)\n",
    "        for tipo in tipos:\n",
    "            \n",
    "            if tipo == 1:\n",
    "                flow_matrix = np.zeros((4,4))\n",
    "                print('tipo I')\n",
    "                eta = -1\n",
    "                pg = np.sqrt(3)/3\n",
    "                for x in product([0,1], repeat=2):\n",
    "                    i, j = x\n",
    "\n",
    "                    if glob:\n",
    "                        if i != 0 and j != 0:\n",
    "                            flow_matrix[i, j] = phis[i](-pg,eta)*phis[j](-pg,eta) +\\\n",
    "                             phis[i](pg, eta)*phis[j](pg, eta)\n",
    "                    else:\n",
    "                        flow_matrix[i, j] = phis[i](-pg,eta)*phis[j](-pg,eta) +\\\n",
    "                             phis[i](pg, eta)*phis[j](pg, eta)\n",
    "                F += flow_matrix\n",
    "\n",
    "            elif tipo == 2:\n",
    "                #######################################\n",
    "                flow_matrix = np.zeros((4,4))\n",
    "                print('tipo II')\n",
    "                ksi = 1\n",
    "                pg = np.sqrt(3)/3\n",
    "                for x in product([1,2], repeat=2):\n",
    "                    i, j = x\n",
    "                    if glob:\n",
    "                        if j != 0 and i != 0:\n",
    "                            flow_matrix[i, j] = phis[i](ksi,-pg)*phis[j](ksi, -pg) +\\\n",
    "                             phis[i](ksi, pg)*phis[j](ksi, pg)\n",
    "                    else:\n",
    "                        flow_matrix[i, j] = phis[i](ksi, -pg)*phis[j](ksi, -pg) +\\\n",
    "                             phis[i](ksi, pg)*phis[j](ksi, pg)\n",
    "                F += flow_matrix\n",
    "                #######################################\n",
    "                \n",
    "            elif tipo == 3:\n",
    "                #######################################\n",
    "                flow_matrix = np.zeros((4,4))\n",
    "                print('tipo III')\n",
    "                eta = 1\n",
    "                pg = np.sqrt(3)/3\n",
    "                for x in product([2,3], repeat=2):\n",
    "                    i, j = x\n",
    "                    if glob:\n",
    "                        if i != 0 and j != 0:\n",
    "                            flow_matrix[i, j] = phis[i](-pg,eta)*phis[j](-pg,eta) +\\\n",
    "                             phis[i](pg, eta)*phis[j](pg, eta)\n",
    "                    else:\n",
    "                        flow_matrix[i, j] = phis[i](-pg,eta)*phis[j](-pg,eta) +\\\n",
    "                             phis[i](pg, eta)*phis[j](pg, eta)\n",
    "                F += flow_matrix\n",
    "                #######################################\n",
    "                \n",
    "            else:\n",
    "                flow_matrix = np.zeros((4,4))\n",
    "                print('tipo IV')\n",
    "                ksi = -1\n",
    "                pg = np.sqrt(3)/3\n",
    "                for x in product([3,0], repeat=2):\n",
    "                    i, j = x\n",
    "                    if glob:\n",
    "                        if j != 0 and i != 0:\n",
    "                            flow_matrix[i, j] = phis[i](ksi,-pg)*phis[j](ksi, -pg) +\\\n",
    "                             phis[i](ksi, pg)*phis[j](ksi, pg)\n",
    "                    else:\n",
    "                        flow_matrix[i, j] = phis[i](ksi, -pg)*phis[j](ksi, -pg) +\\\n",
    "                             phis[i](ksi, pg)*phis[j](ksi, pg)\n",
    "                F += flow_matrix\n",
    "    \n",
    "    #################################\n",
    "    print(F)\n",
    "    #################################\n",
    "    \n",
    "    K_e = np.zeros((4,4))\n",
    "    for p in gauss_points:\n",
    "        B = gradient_interpolator(p)\n",
    "        J = jacobian(M, B)\n",
    "        G = gamma(J)\n",
    "        D = det_J(J)\n",
    "        K_e += (B @ G.T @ Q @ G @ B.T) * D\n",
    "\n",
    "    F_e = (Q_ab @ f_on_nodes) * D - (K_e @ prescribed_vals) + (F @ flow) * 0.125\n",
    "    return K_e, F_e"
   ]
  },
  {
   "cell_type": "markdown",
   "metadata": {},
   "source": [
    "## Criação da discretização 2D, numeração dos nós e numeração dos elementos"
   ]
  },
  {
   "cell_type": "code",
   "execution_count": 3,
   "metadata": {
    "collapsed": true
   },
   "outputs": [],
   "source": [
    "verbose = False"
   ]
  },
  {
   "cell_type": "code",
   "execution_count": 4,
   "metadata": {
    "collapsed": true
   },
   "outputs": [],
   "source": [
    "nx = 5\n",
    "ny = 5\n",
    "X, Y = np.meshgrid(np.linspace(0,1,nx), np.linspace(0,1,ny))"
   ]
  },
  {
   "cell_type": "code",
   "execution_count": 5,
   "metadata": {},
   "outputs": [
    {
     "name": "stdout",
     "output_type": "stream",
     "text": [
      "(5, 5) (5, 5)\n"
     ]
    }
   ],
   "source": [
    "print(X.shape, Y.shape)"
   ]
  },
  {
   "cell_type": "code",
   "execution_count": 6,
   "metadata": {},
   "outputs": [
    {
     "name": "stdout",
     "output_type": "stream",
     "text": [
      "(25, 2)\n"
     ]
    }
   ],
   "source": [
    "Z = np.array(list(zip(X.ravel(), Y.ravel())))\n",
    "print(Z.shape)"
   ]
  },
  {
   "cell_type": "code",
   "execution_count": 7,
   "metadata": {},
   "outputs": [
    {
     "name": "stdout",
     "output_type": "stream",
     "text": [
      "25\n"
     ]
    }
   ],
   "source": [
    "nodes = list(enumerate(Z))\n",
    "nodes_n = nodes[-1][0] + 1\n",
    "print(nodes_n)"
   ]
  },
  {
   "cell_type": "code",
   "execution_count": 8,
   "metadata": {},
   "outputs": [
    {
     "name": "stdout",
     "output_type": "stream",
     "text": [
      "16\n"
     ]
    }
   ],
   "source": [
    "elements_n = (nx-1)*(ny-1)\n",
    "print(elements_n)"
   ]
  },
  {
   "cell_type": "code",
   "execution_count": 9,
   "metadata": {
    "collapsed": true
   },
   "outputs": [],
   "source": [
    "G = np.zeros((4,elements_n), dtype=np.int64)"
   ]
  },
  {
   "cell_type": "code",
   "execution_count": 10,
   "metadata": {
    "collapsed": true
   },
   "outputs": [],
   "source": [
    "num = 0\n",
    "\n",
    "for d in range(ny-1):\n",
    "    for i in range((nx-1)):\n",
    "        G[:,num] = np.array([i+d*nx, i+1+d*nx, i+nx+1+d*nx, i+nx+d*nx])\n",
    "        num+=1\n",
    "\n",
    "if verbose:\n",
    "    for x in range(G.shape[1]):\n",
    "        print(G[:,x])"
   ]
  },
  {
   "cell_type": "markdown",
   "metadata": {},
   "source": [
    "## Montagem da matriz rigidez local, e posterior mapeamento para a matriz rigidez global"
   ]
  },
  {
   "cell_type": "code",
   "execution_count": 11,
   "metadata": {
    "collapsed": true
   },
   "outputs": [],
   "source": [
    "def map_nodes_to_physical(G, elem, verbose=False):\n",
    "    n_ = G[:,elem]\n",
    "    l = list()\n",
    "    \n",
    "    for idx in n_:\n",
    "        l.append(nodes[int(idx)][1])\n",
    "        if verbose:\n",
    "            print('global node {0} --> point {1} on R2'.format(idx, nodes[int(idx)][1]))\n",
    "        \n",
    "    M = np.array(l).T\n",
    "    return M"
   ]
  },
  {
   "cell_type": "code",
   "execution_count": 12,
   "metadata": {
    "collapsed": true
   },
   "outputs": [],
   "source": [
    "def check(permutations):\n",
    "    l = []\n",
    "    t_ = {\n",
    "        (0, 1): 1,\n",
    "        (1, 2): 2,\n",
    "        (2, 3): 3,\n",
    "        (3, 0): 4\n",
    "}\n",
    "    for y in permutations:\n",
    "        if y in t_.keys():\n",
    "            l.append(t_[y])\n",
    "    return l"
   ]
  },
  {
   "cell_type": "code",
   "execution_count": 13,
   "metadata": {
    "collapsed": true
   },
   "outputs": [],
   "source": [
    "def l2g(EQ_vector, L2G_matrix, Q_ab, f, prescribed, flow, verbose=False):\n",
    "    nodes_per_elem, elem_n = L2G_matrix.shape\n",
    "    \n",
    "    if verbose:\n",
    "        print(nodes_per_elem, elem_n)\n",
    "    \n",
    "    eq_n = int(np.max(EQ_vector) + 1)\n",
    "    \n",
    "    if verbose:\n",
    "        print(eq_n)\n",
    "    \n",
    "    K = np.zeros((eq_n, eq_n))\n",
    "    F = np.zeros((eq_n, ))\n",
    "    \n",
    "    for elem in [15]:\n",
    "        print('elem {0}'.format(elem))\n",
    "        global_nodes = L2G_matrix[:,elem]\n",
    "        f_on_nodes = f[global_nodes]\n",
    "        pres_on_nodes = prescribed[global_nodes]\n",
    "        flow_on_nodes = flow[global_nodes]\n",
    "        f = np.where(np.absolute(flow_on_nodes) > 1e-13)[0]\n",
    "        perm = itertools.permutations(f, 2)\n",
    "        tipos = check(perm)\n",
    "        print(tipos)\n",
    "        \n",
    "        if verbose:\n",
    "            print('global nodes --> {0}'.format(global_nodes))\n",
    "            print('f on nodes --> {0}'.format(f_on_nodes))\n",
    "            print('prescribed on nodes --> {0}'.format(pres_on_nodes))\n",
    "            print('flow on nodes --> {0}'.format(flow_on_nodes))\n",
    "            \n",
    "        c = itertools.product(range(nodes_per_elem),repeat=2)\n",
    "        M = map_nodes_to_physical(L2G_matrix, elem, verbose=verbose)\n",
    "        glob = True if 0 in global_nodes else False\n",
    "        local_k, local_F = build_local(M, Q, Q_ab, f_on_nodes, pres_on_nodes, (tipos[0], flow_on_nodes), glob=glob)\n",
    "        print(local_F)\n",
    "        \n",
    "        for x in c:\n",
    "            aux1 = L2G_matrix[x[0]][elem]\n",
    "            aux2 = L2G_matrix[x[1]][elem]    \n",
    "            i = EQ_vector[aux1]\n",
    "            j = EQ_vector[aux2]\n",
    "            \n",
    "            if verbose:\n",
    "                print('el_node {0} --> glob_node {1} --> eq_vec {2}'.format((x), (aux1, aux2), (i, j)))\n",
    "                \n",
    "            if i != -1 and j != -1:\n",
    "                K[i][j] += local_k[x[0]][x[1]]\n",
    "                \n",
    "                if verbose:\n",
    "                    print('\\t----> accumulating to global')\n",
    "        \n",
    "        for node in global_nodes:\n",
    "            i = EQ_vector[node]\n",
    "            \n",
    "            if verbose:\n",
    "                print('node {0} --> equation {1}'.format(node, i))\n",
    "                \n",
    "            if i != -1:\n",
    "                \n",
    "                if verbose:\n",
    "                    print('\\tnode {0} --> pos {1} on local_f'.format(node, np.where(global_nodes == node)[0]))\n",
    "                \n",
    "                F[i] += local_F[np.where(global_nodes == node)[0]]\n",
    "        \n",
    "        if verbose:\n",
    "            print('+'*60)\n",
    "\n",
    "    return K, F"
   ]
  },
  {
   "cell_type": "code",
   "execution_count": 14,
   "metadata": {
    "collapsed": true
   },
   "outputs": [],
   "source": [
    "# phi_1 = lambda ksi, eta: 0.25*(1-ksi)*(1-eta)\n",
    "# phi_2 = lambda ksi, eta: 0.25*(1+ksi)*(1-eta)\n",
    "# phi_3 = lambda ksi, eta: 0.25*(1+ksi)*(1+eta)\n",
    "# phi_4 = lambda ksi, eta: 0.25*(1-ksi)*(1+eta)\n",
    "\n",
    "# gauss_points = [[-np.sqrt(3)/3,-np.sqrt(3)/3],\n",
    "#                 [np.sqrt(3)/3, -np.sqrt(3)/3],\n",
    "#                 [np.sqrt(3)/3, np.sqrt(3)/3],\n",
    "#                 [-np.sqrt(3)/3, np.sqrt(3)/3]]\n",
    "\n",
    "interp = np.array([phi_1, phi_2, phi_3, phi_4])\n",
    "\n",
    "Q_ab = np.zeros((4,4))\n",
    "\n",
    "verbose = False\n",
    "for i in range(4):\n",
    "    for j in range(4):\n",
    "        for pg in gauss_points:\n",
    "            Q_ab[i, j] += interp[i](pg[0], pg[1])*interp[j](pg[0], pg[1])\n",
    "            \n",
    "            if verbose:\n",
    "                print('({0}, {1}) --> pg = ({2}, {3})'.format(i, j, pg[0], pg[1]))\n",
    "        \n",
    "        if verbose:\n",
    "            print('+'*60)"
   ]
  },
  {
   "cell_type": "code",
   "execution_count": 15,
   "metadata": {
    "collapsed": true,
    "scrolled": true
   },
   "outputs": [],
   "source": [
    "f_ = lambda x: (2*np.pi**2)*(2*np.sin(np.pi*x[0])*np.cos(np.pi*x[1]) + np.cos(np.pi*x[0])*np.sin(np.pi*x[1]))\n",
    "f = np.zeros((nodes_n,))\n",
    "for pts in nodes:\n",
    "    f[pts[0]] = f_(pts[1])"
   ]
  },
  {
   "cell_type": "code",
   "execution_count": 16,
   "metadata": {
    "scrolled": true
   },
   "outputs": [
    {
     "name": "stdout",
     "output_type": "stream",
     "text": [
      "gamma 1 [0 1 2 3 4]\n",
      "gamma 3 [20 21 22 23 24]\n",
      "gamma 2 [ 9 14 19]\n",
      "gamma 4 [ 5 10 15]\n",
      "flow nodes [ 0  1  2  3  4  9 14 19 20 21 22 23 24  5 10 15]\n",
      "d_sols [ 1  2  3  4  5  6  7  8  9 10 11 12 13 14 15 16 17 18 19 20 21 22 23 24]\n"
     ]
    }
   ],
   "source": [
    "prescribed = np.zeros((nodes_n, ))\n",
    "\n",
    "flow = np.zeros((nodes_n, ))\n",
    "zero = np.array([0])\n",
    "# union = zero\n",
    "\n",
    "gamma_1 = np.where(Z[:,1] == 0)[0]\n",
    "# union = np.union1d(union, gamma_1)\n",
    "union = gamma_1\n",
    "print(\"gamma 1 {0}\".format(gamma_1))\n",
    "# prescribed[gamma_1] = np.sin(np.pi*Z[gamma_1,0])\n",
    "flow[gamma_1] = -np.pi*np.cos(np.pi*Z[gamma_1, 0])\n",
    "\n",
    "gamma_3 = np.setdiff1d(np.where(Z[:,1] == 1)[0], union)\n",
    "union = np.union1d(union, gamma_3)\n",
    "print(\"gamma 3 {0}\".format(gamma_3))\n",
    "flow[gamma_3] = -np.pi*np.cos(np.pi*Z[gamma_3, 0])\n",
    "# flow[gamma_1] = -np.pi*np.cos(np.pi*Z[gamma_1, 0])\n",
    "\n",
    "gamma_2 = np.setdiff1d(np.where(Z[:,0] == 1)[0], union)\n",
    "union = np.union1d(union, gamma_2)\n",
    "print(\"gamma 2 {0}\".format(gamma_2))\n",
    "flow[gamma_2] = -2*np.pi*np.cos(np.pi*Z[gamma_2, 1])\n",
    "# flow[gamma_4] = -2*np.pi*np.cos(np.pi*Z[gamma_4, 1])\n",
    "\n",
    "# prescribed[gamma_3] = -np.sin(np.pi*Z[gamma_3,0])\n",
    "\n",
    "gamma_4 = np.setdiff1d(np.where(Z[:,0] == 0)[0], union)\n",
    "print(\"gamma 4 {0}\".format(gamma_4))\n",
    "flow[gamma_4] = -2*np.pi*np.cos(np.pi*Z[gamma_4, 1])\n",
    "\n",
    "flow_nodes = np.concatenate((gamma_1, gamma_2, gamma_3, gamma_4),axis=0)\n",
    "print('flow nodes {0}'.format(flow_nodes))\n",
    "\n",
    "d_sols = np.setdiff1d(np.arange(nodes_n), zero)\n",
    "print('d_sols {0}'.format(d_sols))"
   ]
  },
  {
   "cell_type": "code",
   "execution_count": 17,
   "metadata": {
    "scrolled": false
   },
   "outputs": [
    {
     "data": {
      "text/plain": [
       "array([ -3.14159265e+00,  -2.22144147e+00,  -1.92367069e-16,\n",
       "         2.22144147e+00,   3.14159265e+00,  -4.44288294e+00,\n",
       "         0.00000000e+00,   0.00000000e+00,   0.00000000e+00,\n",
       "        -4.44288294e+00,  -3.84734139e-16,   0.00000000e+00,\n",
       "         0.00000000e+00,   0.00000000e+00,  -3.84734139e-16,\n",
       "         4.44288294e+00,   0.00000000e+00,   0.00000000e+00,\n",
       "         0.00000000e+00,   4.44288294e+00,  -3.14159265e+00,\n",
       "        -2.22144147e+00,  -1.92367069e-16,   2.22144147e+00,\n",
       "         3.14159265e+00])"
      ]
     },
     "execution_count": 17,
     "metadata": {},
     "output_type": "execute_result"
    }
   ],
   "source": [
    "flow"
   ]
  },
  {
   "cell_type": "code",
   "execution_count": 18,
   "metadata": {},
   "outputs": [
    {
     "name": "stdout",
     "output_type": "stream",
     "text": [
      "[ -4.44288294e+00  -3.84734139e-16   4.44288294e+00]\n",
      "[ -3.14159265e+00  -2.22144147e+00  -1.92367069e-16   2.22144147e+00\n",
      "   3.14159265e+00]\n"
     ]
    }
   ],
   "source": [
    "print(flow[gamma_2])\n",
    "print(flow[gamma_3])"
   ]
  },
  {
   "cell_type": "code",
   "execution_count": 19,
   "metadata": {
    "collapsed": true
   },
   "outputs": [],
   "source": [
    "EQ_vector = np.zeros((nodes_n,), dtype=np.int64) - 1\n",
    "count = 0\n",
    "\n",
    "for idx in range(EQ_vector.shape[0]):\n",
    "    if idx in d_sols:\n",
    "        EQ_vector[idx] = count\n",
    "        count += 1"
   ]
  },
  {
   "cell_type": "code",
   "execution_count": 20,
   "metadata": {
    "scrolled": false
   },
   "outputs": [
    {
     "name": "stdout",
     "output_type": "stream",
     "text": [
      "4 16\n",
      "24\n",
      "elem 15\n",
      "[2, 3]\n",
      "global nodes --> [18 19 24 23]\n",
      "f on nodes --> [ -2.96088132e+01  -1.39577284e+01  -7.25206766e-15  -2.79154568e+01]\n",
      "prescribed on nodes --> [ 0.  0.  0.  0.]\n",
      "flow on nodes --> [ 0.          4.44288294  3.14159265  2.22144147]\n",
      "global node 18 --> point [ 0.75  0.75] on R2\n",
      "global node 19 --> point [ 1.    0.75] on R2\n",
      "global node 24 --> point [ 1.  1.] on R2\n",
      "global node 23 --> point [ 0.75  1.  ] on R2\n",
      "tipo II\n",
      "[[ 0.          0.          0.          0.        ]\n",
      " [ 0.          0.66666667  0.33333333  0.        ]\n",
      " [ 0.          0.33333333  0.66666667  0.        ]\n",
      " [ 0.          0.          0.          0.        ]]\n",
      "[-0.35100976  0.25293856  0.25012232 -0.32089789]\n",
      "el_node (0, 0) --> glob_node (18, 18) --> eq_vec (17, 17)\n",
      "\t----> accumulating to global\n",
      "el_node (0, 1) --> glob_node (18, 19) --> eq_vec (17, 18)\n",
      "\t----> accumulating to global\n",
      "el_node (0, 2) --> glob_node (18, 24) --> eq_vec (17, 23)\n",
      "\t----> accumulating to global\n",
      "el_node (0, 3) --> glob_node (18, 23) --> eq_vec (17, 22)\n",
      "\t----> accumulating to global\n",
      "el_node (1, 0) --> glob_node (19, 18) --> eq_vec (18, 17)\n",
      "\t----> accumulating to global\n",
      "el_node (1, 1) --> glob_node (19, 19) --> eq_vec (18, 18)\n",
      "\t----> accumulating to global\n",
      "el_node (1, 2) --> glob_node (19, 24) --> eq_vec (18, 23)\n",
      "\t----> accumulating to global\n",
      "el_node (1, 3) --> glob_node (19, 23) --> eq_vec (18, 22)\n",
      "\t----> accumulating to global\n",
      "el_node (2, 0) --> glob_node (24, 18) --> eq_vec (23, 17)\n",
      "\t----> accumulating to global\n",
      "el_node (2, 1) --> glob_node (24, 19) --> eq_vec (23, 18)\n",
      "\t----> accumulating to global\n",
      "el_node (2, 2) --> glob_node (24, 24) --> eq_vec (23, 23)\n",
      "\t----> accumulating to global\n",
      "el_node (2, 3) --> glob_node (24, 23) --> eq_vec (23, 22)\n",
      "\t----> accumulating to global\n",
      "el_node (3, 0) --> glob_node (23, 18) --> eq_vec (22, 17)\n",
      "\t----> accumulating to global\n",
      "el_node (3, 1) --> glob_node (23, 19) --> eq_vec (22, 18)\n",
      "\t----> accumulating to global\n",
      "el_node (3, 2) --> glob_node (23, 24) --> eq_vec (22, 23)\n",
      "\t----> accumulating to global\n",
      "el_node (3, 3) --> glob_node (23, 23) --> eq_vec (22, 22)\n",
      "\t----> accumulating to global\n",
      "node 18 --> equation 17\n",
      "\tnode 18 --> pos [0] on local_f\n",
      "node 19 --> equation 18\n",
      "\tnode 19 --> pos [1] on local_f\n",
      "node 24 --> equation 23\n",
      "\tnode 24 --> pos [2] on local_f\n",
      "node 23 --> equation 22\n",
      "\tnode 23 --> pos [3] on local_f\n",
      "++++++++++++++++++++++++++++++++++++++++++++++++++++++++++++\n"
     ]
    }
   ],
   "source": [
    "K, F = l2g(EQ_vector, G, Q_ab, f, prescribed, flow, verbose=True)"
   ]
  },
  {
   "cell_type": "code",
   "execution_count": 21,
   "metadata": {
    "collapsed": true
   },
   "outputs": [],
   "source": [
    "# d = np.linalg.solve(K, F)"
   ]
  },
  {
   "cell_type": "code",
   "execution_count": 22,
   "metadata": {
    "collapsed": true
   },
   "outputs": [],
   "source": [
    "# sols = prescribed\n",
    "# sols[d_sols] = d"
   ]
  },
  {
   "cell_type": "code",
   "execution_count": 23,
   "metadata": {
    "collapsed": true
   },
   "outputs": [],
   "source": [
    "# import matplotlib.pyplot as plt\n",
    "# from mpl_toolkits.mplot3d import Axes3D\n",
    "# fig = plt.figure(figsize=(14, 14))\n",
    "# ax = fig.add_subplot(111, projection='3d')\n",
    "\n",
    "# X, Y = Z[:,0], Z[:,1]\n",
    "\n",
    "# ax.plot_trisurf(X, Y, sols)\n",
    "# ax.view_init(20,35)\n",
    "# plt.show()"
   ]
  }
 ],
 "metadata": {
  "kernelspec": {
   "display_name": "Python 3",
   "language": "python",
   "name": "python3"
  },
  "language_info": {
   "codemirror_mode": {
    "name": "ipython",
    "version": 3
   },
   "file_extension": ".py",
   "mimetype": "text/x-python",
   "name": "python",
   "nbconvert_exporter": "python",
   "pygments_lexer": "ipython3",
   "version": "3.6.2"
  }
 },
 "nbformat": 4,
 "nbformat_minor": 2
}
